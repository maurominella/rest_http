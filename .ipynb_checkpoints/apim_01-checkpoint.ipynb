{
 "cells": [
  {
   "cell_type": "markdown",
   "id": "4f0c1a13",
   "metadata": {},
   "source": [
    "# Variables definition"
   ]
  },
  {
   "cell_type": "code",
   "execution_count": 1,
   "id": "e6694810",
   "metadata": {},
   "outputs": [],
   "source": [
    "import os\n",
    "from dotenv import load_dotenv\n",
    "\n",
    "load_dotenv(\"./../config/credentials_my.env\")\n",
    "openai_endpoint       = os.environ[\"openai_endpoint\"]\n",
    "openai_api_key        = os.environ[\"openai_api_key\"]\n",
    "openai_api_version    = os.environ[\"openai_api_version\"]\n",
    "azure_deployment_name = os.environ[\"azure_deployment_name\"]\n",
    "\n",
    "apim_endpoint         = os.environ[\"apim_endpoint\"]\n",
    "apim_subscription_key = os.environ[\"apim_subscription_key_premium\"] # apim_subscription_key_service, apim_subscription_key_standard and apim_subscription_key_premium\n",
    "apim_api_version      = os.environ[\"apim_api_version\"] # never used\n",
    "\n",
    "messages = [\n",
    "    {\n",
    "      \"role\": \"user\",\n",
    "      \"content\": \"What is a meaning function? Please summarize in less than 20 words.\"\n",
    "    }\n",
    "]"
   ]
  },
  {
   "cell_type": "markdown",
   "id": "cd6a20a1",
   "metadata": {},
   "source": [
    "# Invoking Open AI via HTTP"
   ]
  },
  {
   "cell_type": "code",
   "execution_count": 2,
   "id": "fd71820d",
   "metadata": {},
   "outputs": [
    {
     "name": "stdout",
     "output_type": "stream",
     "text": [
      "This is the Open AI endpoint and body that is invoked:\n",
      "- https://mmoaiscus-01.openai.azure.com/openai/deployments/gpt-4o-for-apim/chat/completions?api-version=2024-05-01-preview\n",
      "- {'messages': [{'role': 'user', 'content': 'What is a meaning function? Please summarize in less than 20 words.'}]}\n"
     ]
    }
   ],
   "source": [
    "import requests\n",
    "\n",
    "messages_json = {\"messages\": messages}\n",
    "\n",
    "url = f\"{openai_endpoint}openai/deployments/{azure_deployment_name}/chat/completions?api-version={openai_api_version}\"\n",
    "print(f'This is the Open AI endpoint and body that is invoked:\\n- {url}\\n- {messages_json}')"
   ]
  },
  {
   "cell_type": "code",
   "execution_count": 3,
   "id": "f5c99c1d",
   "metadata": {},
   "outputs": [
    {
     "name": "stdout",
     "output_type": "stream",
     "text": [
      "A meaning function assigns semantic values to expressions within a language, facilitating interpretation and understanding.\n",
      "x-ms-region = South Central US\n"
     ]
    }
   ],
   "source": [
    "response_http = requests.post(url, headers = {'api-key':openai_api_key}, json = {\"messages\": messages})\n",
    "\n",
    "if (int(response_http.status_code / 100))==2:\n",
    "    print(f\"{response_http.json()['choices'][0]['message']['content']}\\nx-ms-region = {response_http.headers['x-ms-region']}\")\n",
    "else:\n",
    "    print(response_http.text)"
   ]
  },
  {
   "cell_type": "markdown",
   "id": "11960c92",
   "metadata": {},
   "source": [
    "# Invoking Open AI via Azure SDK"
   ]
  },
  {
   "cell_type": "code",
   "execution_count": 4,
   "id": "5efb11e4",
   "metadata": {},
   "outputs": [],
   "source": [
    "from openai import AzureOpenAI\n",
    "\n",
    "client = AzureOpenAI(\n",
    "    azure_endpoint = openai_endpoint,\n",
    "    api_key        = openai_api_key,\n",
    "    api_version    = openai_api_version\n",
    ")"
   ]
  },
  {
   "cell_type": "code",
   "execution_count": 5,
   "id": "6269dfb6",
   "metadata": {},
   "outputs": [
    {
     "name": "stdout",
     "output_type": "stream",
     "text": [
      "A meaning function relates linguistic expressions to their meanings or interpretations within a given context or framework.\n"
     ]
    }
   ],
   "source": [
    "response_sdk = client.chat.completions.create(\n",
    "    model    = azure_deployment_name,\n",
    "    messages = messages)\n",
    "\n",
    "print(response_sdk.choices[0].message.content)"
   ]
  },
  {
   "cell_type": "markdown",
   "id": "affb3432",
   "metadata": {},
   "source": [
    "# Invoking APIM via HTTP"
   ]
  },
  {
   "cell_type": "code",
   "execution_count": 6,
   "id": "0f95619e",
   "metadata": {},
   "outputs": [
    {
     "name": "stdout",
     "output_type": "stream",
     "text": [
      "This is the Open AI endpoint and body that is invoked:\n",
      "- https://genaihackapim.azure-api.net/balanced-azure-openai-service-api/openai/deployments/gpt-4o-for-apim/chat/completions?api-version=2024-05-01-preview\n",
      "- {'messages': [{'role': 'user', 'content': 'What is a meaning function? Please summarize in less than 20 words.'}]}\n",
      "https://genaihackapim.azure-api.net/balanced-azure-openai-service-api/openai/deployments/gpt-4o-for-apim/chat/completions?api-version=2024-05-01-preview\n"
     ]
    }
   ],
   "source": [
    "import requests\n",
    "\n",
    "messages_json = {\"messages\": messages}\n",
    "\n",
    "url = f\"{apim_endpoint}openai/deployments/{azure_deployment_name}/chat/completions?api-version={openai_api_version}\"\n",
    "print(f'This is the Open AI endpoint and body that is invoked:\\n- {url}\\n- {messages_json}')"
   ]
  },
  {
   "cell_type": "code",
   "execution_count": 7,
   "id": "1807ad01",
   "metadata": {},
   "outputs": [
    {
     "name": "stdout",
     "output_type": "stream",
     "text": [
      "A meaning function assigns semantic interpretations to linguistic expressions in language processing.\n",
      "x-ms-region = Sweden Central\n"
     ]
    }
   ],
   "source": [
    "response_http = requests.post(url, headers = {'api-key':apim_subscription_key}, json = {\"messages\": messages})\n",
    "if (int(response_http.status_code / 100))==2:\n",
    "    print(f\"{response_http.json()['choices'][0]['message']['content']}\\nx-ms-region = {response_http.headers['x-ms-region']}\")\n",
    "else:\n",
    "    print(response_http.text)"
   ]
  },
  {
   "cell_type": "markdown",
   "id": "e5c894f2",
   "metadata": {},
   "source": [
    "# Invoking APIM via Azure SDK"
   ]
  },
  {
   "cell_type": "code",
   "execution_count": 8,
   "id": "80cbf6ab",
   "metadata": {},
   "outputs": [],
   "source": [
    "from openai import AzureOpenAI\n",
    "\n",
    "client = AzureOpenAI(\n",
    "    azure_endpoint = apim_endpoint,\n",
    "    api_key        = apim_subscription_key,\n",
    "    api_version    = openai_api_version\n",
    ")"
   ]
  },
  {
   "cell_type": "code",
   "execution_count": 9,
   "id": "a9d99753",
   "metadata": {},
   "outputs": [
    {
     "name": "stdout",
     "output_type": "stream",
     "text": [
      "A meaning function maps symbols or expressions to their meanings or interpretations in a given context.\n"
     ]
    }
   ],
   "source": [
    "response_sdk = client.chat.completions.create(\n",
    "    model    = azure_deployment_name,\n",
    "    messages = messages)\n",
    "\n",
    "print(response_sdk.choices[0].message.content)"
   ]
  },
  {
   "cell_type": "markdown",
   "id": "0260d22e",
   "metadata": {},
   "source": [
    "## Loading test"
   ]
  },
  {
   "cell_type": "code",
   "execution_count": null,
   "id": "fb8ea351",
   "metadata": {},
   "outputs": [
    {
     "name": "stdout",
     "output_type": "stream",
     "text": [
      "step 0 at 2024-12-19 09:43:46.564992: A meaning function links linguistic expressions to their interpretations or semantic representations systematically.\n"
     ]
    }
   ],
   "source": [
    "from datetime import datetime\n",
    "for i in range(500):\n",
    "    response_sdk = client.chat.completions.create(\n",
    "        model    = azure_deployment_name,\n",
    "        messages = messages)\n",
    "\n",
    "    print(f\"step {i} at {datetime.now()}: {response_sdk.choices[0].message.content}\")"
   ]
  }
 ],
 "metadata": {
  "kernelspec": {
   "display_name": "openai",
   "language": "python",
   "name": "openai"
  },
  "language_info": {
   "codemirror_mode": {
    "name": "ipython",
    "version": 3
   },
   "file_extension": ".py",
   "mimetype": "text/x-python",
   "name": "python",
   "nbconvert_exporter": "python",
   "pygments_lexer": "ipython3",
   "version": "3.11.0"
  }
 },
 "nbformat": 4,
 "nbformat_minor": 5
}

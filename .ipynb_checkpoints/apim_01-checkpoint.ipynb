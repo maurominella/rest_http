{
 "cells": [
  {
   "cell_type": "markdown",
   "id": "4f0c1a13",
   "metadata": {},
   "source": [
    "# Variables definition"
   ]
  },
  {
   "cell_type": "code",
   "execution_count": 3,
   "id": "e6694810",
   "metadata": {},
   "outputs": [],
   "source": [
    "import os\n",
    "from dotenv import load_dotenv\n",
    "\n",
    "load_dotenv(\"./../config/credentials_my.env\")\n",
    "openai_endpoint       = os.environ[\"AZURE_OPENAI_ENDPOINT\"]\n",
    "openai_api_key        = os.environ[\"AZURE_OPENAI_API_KEY\"]\n",
    "openai_api_version    = os.environ[\"openai_api_version\"]\n",
    "azure_deployment_name = os.environ[\"AZURE_OPENAI_CHAT_DEPLOYMENT_NAME\"]\n",
    "\n",
    "apim_endpoint         = os.environ[\"apim_endpoint\"]\n",
    "apim_subscription_key = os.environ[\"apim_subscription_key_premium\"] # apim_subscription_key_service, apim_subscription_key_standard and apim_subscription_key_premium\n",
    "apim_api_version      = os.environ[\"apim_api_version\"] # never used\n",
    "\n",
    "messages = [\n",
    "    {\n",
    "      \"role\": \"user\",\n",
    "      \"content\": \"What is a meaning function? Please summarize in less than 20 words.\"\n",
    "    }\n",
    "]"
   ]
  },
  {
   "cell_type": "markdown",
   "id": "cd6a20a1",
   "metadata": {},
   "source": [
    "# Invoking Open AI via HTTP"
   ]
  },
  {
   "cell_type": "code",
   "execution_count": 4,
   "id": "fd71820d",
   "metadata": {},
   "outputs": [
    {
     "name": "stdout",
     "output_type": "stream",
     "text": [
      "This is the Open AI endpoint and body that is invoked:\n",
      "- https://mmoaiswc-01.openai.azure.com/openai/deployments/gpt-4o/chat/completions?api-version=2024-10-01-preview\n",
      "- {'messages': [{'role': 'user', 'content': 'What is a meaning function? Please summarize in less than 20 words.'}]}\n"
     ]
    }
   ],
   "source": [
    "import requests\n",
    "\n",
    "messages_json = {\"messages\": messages}\n",
    "\n",
    "url = f\"{openai_endpoint}openai/deployments/{azure_deployment_name}/chat/completions?api-version={openai_api_version}\"\n",
    "print(f'This is the Open AI endpoint and body that is invoked:\\n- {url}\\n- {messages_json}')"
   ]
  },
  {
   "cell_type": "code",
   "execution_count": 5,
   "id": "f5c99c1d",
   "metadata": {},
   "outputs": [
    {
     "name": "stdout",
     "output_type": "stream",
     "text": [
      "A meaning function assigns semantic interpretations to linguistic expressions within a specific formal language or context.\n",
      "x-ms-region = Sweden Central\n"
     ]
    }
   ],
   "source": [
    "response_http = requests.post(url, headers = {'api-key':openai_api_key}, json = {\"messages\": messages})\n",
    "\n",
    "if (int(response_http.status_code / 100))==2:\n",
    "    print(f\"{response_http.json()['choices'][0]['message']['content']}\\nx-ms-region = {response_http.headers['x-ms-region']}\")\n",
    "else:\n",
    "    print(response_http.text)"
   ]
  },
  {
   "cell_type": "markdown",
   "id": "11960c92",
   "metadata": {},
   "source": [
    "# Invoking Open AI via Azure SDK"
   ]
  },
  {
   "cell_type": "code",
   "execution_count": 6,
   "id": "5efb11e4",
   "metadata": {},
   "outputs": [],
   "source": [
    "from openai import AzureOpenAI\n",
    "\n",
    "client = AzureOpenAI(\n",
    "    azure_endpoint = openai_endpoint,\n",
    "    api_key        = openai_api_key,\n",
    "    api_version    = openai_api_version\n",
    ")"
   ]
  },
  {
   "cell_type": "code",
   "execution_count": 7,
   "id": "6269dfb6",
   "metadata": {},
   "outputs": [
    {
     "name": "stdout",
     "output_type": "stream",
     "text": [
      "A meaning function assigns semantic interpretations to expressions within a language or formal system.\n"
     ]
    }
   ],
   "source": [
    "response_sdk = client.chat.completions.create(\n",
    "    model    = azure_deployment_name,\n",
    "    messages = messages)\n",
    "\n",
    "print(response_sdk.choices[0].message.content)"
   ]
  },
  {
   "cell_type": "markdown",
   "id": "affb3432",
   "metadata": {},
   "source": [
    "# Invoking APIM via HTTP"
   ]
  },
  {
   "cell_type": "code",
   "execution_count": 8,
   "id": "0f95619e",
   "metadata": {},
   "outputs": [
    {
     "name": "stdout",
     "output_type": "stream",
     "text": [
      "This is the Open AI endpoint and body that is invoked:\n",
      "- https://mmapim1.azure-api.net/balanced-azure-openai-service-api/openai/deployments/gpt-4o/chat/completions?api-version=2024-10-01-preview\n",
      "- {'messages': [{'role': 'user', 'content': 'What is a meaning function? Please summarize in less than 20 words.'}]}\n"
     ]
    }
   ],
   "source": [
    "import requests\n",
    "\n",
    "messages_json = {\"messages\": messages}\n",
    "\n",
    "url = f\"{apim_endpoint}openai/deployments/{azure_deployment_name}/chat/completions?api-version={openai_api_version}\"\n",
    "print(f'This is the Open AI endpoint and body that is invoked:\\n- {url}\\n- {messages_json}')"
   ]
  },
  {
   "cell_type": "code",
   "execution_count": 9,
   "id": "1807ad01",
   "metadata": {},
   "outputs": [
    {
     "name": "stdout",
     "output_type": "stream",
     "text": [
      "A meaning function assigns significance or interpretation to symbols or expressions within a language or system.\n",
      "x-ms-region = Sweden Central\n"
     ]
    }
   ],
   "source": [
    "response_http = requests.post(url, headers = {'api-key':apim_subscription_key}, json = {\"messages\": messages})\n",
    "if (int(response_http.status_code / 100))==2:\n",
    "    print(f\"{response_http.json()['choices'][0]['message']['content']}\\nx-ms-region = {response_http.headers['x-ms-region']}\")\n",
    "else:\n",
    "    print(response_http.text)"
   ]
  },
  {
   "cell_type": "markdown",
   "id": "e5c894f2",
   "metadata": {},
   "source": [
    "# Invoking APIM via Azure SDK"
   ]
  },
  {
   "cell_type": "code",
   "execution_count": 10,
   "id": "80cbf6ab",
   "metadata": {},
   "outputs": [],
   "source": [
    "from openai import AzureOpenAI\n",
    "\n",
    "client = AzureOpenAI(\n",
    "    azure_endpoint = apim_endpoint,\n",
    "    api_key        = apim_subscription_key,\n",
    "    api_version    = openai_api_version\n",
    ")"
   ]
  },
  {
   "cell_type": "code",
   "execution_count": 11,
   "id": "a9d99753",
   "metadata": {},
   "outputs": [
    {
     "name": "stdout",
     "output_type": "stream",
     "text": [
      "A meaning function assigns semantic interpretations to linguistic expressions within a given context or framework.\n"
     ]
    }
   ],
   "source": [
    "response_sdk = client.chat.completions.create(\n",
    "    model    = azure_deployment_name,\n",
    "    messages = messages)\n",
    "\n",
    "print(response_sdk.choices[0].message.content)"
   ]
  },
  {
   "cell_type": "markdown",
   "id": "0260d22e",
   "metadata": {},
   "source": [
    "## Loading test"
   ]
  },
  {
   "cell_type": "code",
   "execution_count": null,
   "id": "fb8ea351",
   "metadata": {},
   "outputs": [
    {
     "name": "stdout",
     "output_type": "stream",
     "text": [
      "step 0 at 2025-02-07 09:08:50.152312: A meaning function assigns semantic significance or interpretation to symbols or expressions in a language.\n",
      "step 1 at 2025-02-07 09:08:50.591264: A meaning function assigns semantic content to symbols or expressions in a language or logical system.\n",
      "step 2 at 2025-02-07 09:08:51.124630: A meaning function assigns semantic content or interpretation to linguistic expressions or symbols in context.\n",
      "step 3 at 2025-02-07 09:08:51.568549: A meaning function maps symbols or expressions to their interpreted significance or meaning in a given context.\n",
      "step 4 at 2025-02-07 09:08:52.188667: A meaning function maps linguistic expressions to their meanings or interpretations within a given context.\n",
      "step 5 at 2025-02-07 09:08:55.312390: A meaning function interprets symbols or expressions by mapping them to their semantic values or concepts.\n",
      "step 6 at 2025-02-07 09:08:55.867644: A meaning function assigns semantic interpretations to linguistic expressions, mapping language elements to their meanings.\n",
      "step 7 at 2025-02-07 09:08:56.177714: A meaning function assigns semantic values to linguistic expressions in formal semantics.\n",
      "step 8 at 2025-02-07 09:08:56.570390: A meaning function relates linguistic expressions to their semantic meanings within a formalized language system.\n",
      "step 9 at 2025-02-07 09:08:57.055749: A meaning function assigns semantic interpretations to linguistic expressions within a specific context or framework.\n",
      "step 10 at 2025-02-07 09:08:57.573002: A meaning function maps linguistic expressions to their semantic meanings or interpretations in a formal system.\n",
      "step 11 at 2025-02-07 09:08:58.042145: A meaning function defines the relationship between linguistic expressions and their interpretations or meanings.\n",
      "step 12 at 2025-02-07 09:08:59.814763: A meaning function assigns significance or interpretation to symbols or expressions within a specific context.\n",
      "step 13 at 2025-02-07 09:09:00.288660: A meaning function assigns semantic interpretations to linguistic expressions within a specific context.\n",
      "step 14 at 2025-02-07 09:09:01.026604: A meaning function determines the interpretation or semantic value of expressions in a language or logical system.\n",
      "step 15 at 2025-02-07 09:09:02.063133: A meaning function maps linguistic expressions to their meanings or interpretations in a given context.\n",
      "step 16 at 2025-02-07 09:09:02.777550: A meaning function maps linguistic expressions to their interpretations within a specific context or framework.\n",
      "step 17 at 2025-02-07 09:09:03.557685: A meaning function determines how linguistic expressions convey meaning within a specific context or system.\n",
      "step 18 at 2025-02-07 09:09:04.277941: A meaning function maps linguistic expressions to their contextual interpretations or semantic representations.\n",
      "step 19 at 2025-02-07 09:09:04.824823: A meaning function assigns meanings to expressions within a given language or formal system.\n"
     ]
    }
   ],
   "source": [
    "from datetime import datetime\n",
    "for i in range(1000):\n",
    "    response_sdk = client.chat.completions.create(\n",
    "        model    = azure_deployment_name,\n",
    "        messages = messages)\n",
    "\n",
    "    print(f\"step {i} at {datetime.now()}: {response_sdk.choices[0].message.content}\")"
   ]
  }
 ],
 "metadata": {
  "kernelspec": {
   "display_name": "openai",
   "language": "python",
   "name": "openai"
  },
  "language_info": {
   "codemirror_mode": {
    "name": "ipython",
    "version": 3
   },
   "file_extension": ".py",
   "mimetype": "text/x-python",
   "name": "python",
   "nbconvert_exporter": "python",
   "pygments_lexer": "ipython3",
   "version": "3.11.11"
  }
 },
 "nbformat": 4,
 "nbformat_minor": 5
}

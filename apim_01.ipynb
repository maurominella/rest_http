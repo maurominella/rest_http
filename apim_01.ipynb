{
 "cells": [
  {
   "cell_type": "markdown",
   "id": "4f0c1a13",
   "metadata": {},
   "source": [
    "# Variables definition"
   ]
  },
  {
   "cell_type": "code",
   "execution_count": 7,
   "id": "e6694810",
   "metadata": {},
   "outputs": [],
   "source": [
    "openai_endpoint       = \"https://mmoaiscus-01.openai.azure.com/\"\n",
    "openai_api_key        = \"*****\"\n",
    "openai_api_version    = \"2024-05-01-preview\"\n",
    "azure_deployment_name = \"gpt-4o-for-apim\"\n",
    "\n",
    "apim_endpoint         = \"https://mmapim02.azure-api.net/balanced-azure-openai-service-api/\"\n",
    "apim_subscription_key = \"*****\"\n",
    "apim_api_version      = \"2023-09-01-preview\" # never used\n",
    "\n",
    "messages = [\n",
    "    {\n",
    "      \"role\": \"user\",\n",
    "      \"content\": \"What is a meaning function? Please summarize in less than 20 words.\"\n",
    "    }\n",
    "]"
   ]
  },
  {
   "cell_type": "markdown",
   "id": "cd6a20a1",
   "metadata": {},
   "source": [
    "# Invoking Open AI via HTTP"
   ]
  },
  {
   "cell_type": "code",
   "execution_count": 11,
   "id": "fd71820d",
   "metadata": {},
   "outputs": [
    {
     "name": "stdout",
     "output_type": "stream",
     "text": [
      "This is the Open AI endpoint and body that is invoked:\n",
      "- https://mmoaiscus-01.openai.azure.com/openai/deployments/gpt-4o-for-apim/chat/completions?api-version=2024-05-01-preview\n",
      "- {'messages': [{'role': 'user', 'content': 'What is a meaning function? Please summarize in less than 20 words.'}]}\n"
     ]
    }
   ],
   "source": [
    "import requests\n",
    "\n",
    "messages_json = {\"messages\": messages}\n",
    "\n",
    "url = f\"{openai_endpoint}openai/deployments/{azure_deployment_name}/chat/completions?api-version={openai_api_version}\"\n",
    "print(f'This is the Open AI endpoint and body that is invoked:\\n- {url}\\n- {messages_json}')"
   ]
  },
  {
   "cell_type": "code",
   "execution_count": 12,
   "id": "f5c99c1d",
   "metadata": {},
   "outputs": [
    {
     "name": "stdout",
     "output_type": "stream",
     "text": [
      "A meaning function assigns significance or value to words, symbols, or expressions within a specific context.\n",
      "x-ms-region = South Central US\n"
     ]
    }
   ],
   "source": [
    "response_http = requests.post(url, headers = {'api-key':openai_api_key}, json = {\"messages\": messages})\n",
    "\n",
    "if (int(response_http.status_code / 100))==2:\n",
    "    print(f\"{response_http.json()['choices'][0]['message']['content']}\\nx-ms-region = {response_http.headers['x-ms-region']}\")\n",
    "else:\n",
    "    print(response_http.text)"
   ]
  },
  {
   "cell_type": "markdown",
   "id": "11960c92",
   "metadata": {},
   "source": [
    "# Invoking Open AI via Azure SDK"
   ]
  },
  {
   "cell_type": "code",
   "execution_count": null,
   "id": "5efb11e4",
   "metadata": {},
   "outputs": [],
   "source": [
    "from openai import AzureOpenAI\n",
    "\n",
    "client = AzureOpenAI(\n",
    "    azure_endpoint = openai_endpoint,\n",
    "    api_key        = openai_api_key,\n",
    "    api_version    = openai_api_version\n",
    ")"
   ]
  },
  {
   "cell_type": "code",
   "execution_count": null,
   "id": "6269dfb6",
   "metadata": {},
   "outputs": [],
   "source": [
    "response_sdk = client.chat.completions.create(\n",
    "    model    = azure_deployment_name,\n",
    "    messages = messages)\n",
    "\n",
    "print(response_sdk.choices[0].message.content)"
   ]
  },
  {
   "cell_type": "markdown",
   "id": "affb3432",
   "metadata": {},
   "source": [
    "# Invoking APIM via HTTP"
   ]
  },
  {
   "cell_type": "code",
   "execution_count": null,
   "id": "0f95619e",
   "metadata": {},
   "outputs": [],
   "source": [
    "import requests\n",
    "\n",
    "messages_json = {\"messages\": messages}\n",
    "\n",
    "url = f\"{apim_endpoint}openai/deployments/{azure_deployment_name}/chat/completions?api-version={openai_api_version}\"\n",
    "print(f'This is the Open AI endpoint and body that is invoked:\\n- {url}\\n- {messages_json}')"
   ]
  },
  {
   "cell_type": "code",
   "execution_count": null,
   "id": "1807ad01",
   "metadata": {},
   "outputs": [],
   "source": [
    "response_http = requests.post(url, headers = {'api-key':apim_subscription_key}, json = {\"messages\": messages})\n",
    "if (int(response_http.status_code / 100))==2:\n",
    "    print(f\"{response_http.json()['choices'][0]['message']['content']}\\nx-ms-region = {response_http.headers['x-ms-region']}\")\n",
    "else:\n",
    "    print(response_http.text)"
   ]
  },
  {
   "cell_type": "markdown",
   "id": "e5c894f2",
   "metadata": {},
   "source": [
    "# Invoking APIM via Azure SDK"
   ]
  },
  {
   "cell_type": "code",
   "execution_count": null,
   "id": "80cbf6ab",
   "metadata": {},
   "outputs": [],
   "source": [
    "from openai import AzureOpenAI\n",
    "\n",
    "client = AzureOpenAI(\n",
    "    azure_endpoint = apim_endpoint,\n",
    "    api_key        = apim_subscription_key,\n",
    "    api_version    = openai_api_version\n",
    ")"
   ]
  },
  {
   "cell_type": "code",
   "execution_count": null,
   "id": "a9d99753",
   "metadata": {},
   "outputs": [],
   "source": [
    "response_sdk = client.chat.completions.create(\n",
    "    model    = azure_deployment_name,\n",
    "    messages = messages)\n",
    "\n",
    "print(response_sdk.choices[0].message.content)"
   ]
  },
  {
   "cell_type": "markdown",
   "id": "0260d22e",
   "metadata": {},
   "source": [
    "## Loading test"
   ]
  },
  {
   "cell_type": "code",
   "execution_count": null,
   "id": "fb8ea351",
   "metadata": {},
   "outputs": [],
   "source": [
    "from datetime import datetime\n",
    "for i in range(200):\n",
    "    response_sdk = client.chat.completions.create(\n",
    "        model    = azure_deployment_name,\n",
    "        messages = messages)\n",
    "\n",
    "    print(f\"step {i} at {datetime.now()}: {response_sdk.choices[0].message.content}\")"
   ]
  }
 ],
 "metadata": {
  "kernelspec": {
   "display_name": "openai",
   "language": "python",
   "name": "openai"
  },
  "language_info": {
   "codemirror_mode": {
    "name": "ipython",
    "version": 3
   },
   "file_extension": ".py",
   "mimetype": "text/x-python",
   "name": "python",
   "nbconvert_exporter": "python",
   "pygments_lexer": "ipython3",
   "version": "3.11.0"
  }
 },
 "nbformat": 4,
 "nbformat_minor": 5
}

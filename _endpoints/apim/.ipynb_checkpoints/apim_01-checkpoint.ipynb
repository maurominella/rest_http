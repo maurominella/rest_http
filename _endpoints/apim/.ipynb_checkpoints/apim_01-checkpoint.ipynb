{
 "cells": [
  {
   "cell_type": "markdown",
   "id": "4f0c1a13",
   "metadata": {},
   "source": [
    "# Variables definition"
   ]
  },
  {
   "cell_type": "code",
   "execution_count": 1,
   "id": "e6694810",
   "metadata": {},
   "outputs": [
    {
     "name": "stdout",
     "output_type": "stream",
     "text": [
      "Environment variables have been loaded ;-)\n",
      "openai_endpoint: https://mmoaiswc-01.openai.azure.com/\tDeployment name: gpt-4o-for-apim\n",
      "apim_endpoint: https://aigov01apim.azure-api.net/balanced-azure-openai-service-api/\tDeployment name: gpt-4o-for-apim\n"
     ]
    }
   ],
   "source": [
    "import os\n",
    "from dotenv import load_dotenv\n",
    "\n",
    "if not load_dotenv(\"./../../../config/credentials_my.env\", override=True):\n",
    "    print(\"Environment variables not loaded :-(\")\n",
    "else:\n",
    "    print(\"Environment variables have been loaded ;-)\")\n",
    "\n",
    "\n",
    "openai_endpoint       = os.environ[\"AZURE_OPENAI_ENDPOINT\"]\n",
    "openai_api_key        = os.environ[\"AZURE_OPENAI_API_KEY\"]\n",
    "openai_api_version    = os.environ[\"openai_api_version\"]\n",
    "azure_deployment_name = \"gpt-4o-for-apim\" # os.environ[\"AZURE_OPENAI_CHAT_DEPLOYMENT_NAME\"]\n",
    "\n",
    "apim_endpoint         = os.environ[\"apim_endpoint\"]\n",
    "apim_subscription_key = os.environ[\"apim_subscription_key_premium\"] # apim_subscription_key_service, apim_subscription_key_standard and apim_subscription_key_premium\n",
    "apim_api_version      = os.environ[\"apim_api_version\"] # never used\n",
    "\n",
    "messages = [\n",
    "    {\n",
    "      \"role\": \"user\",\n",
    "      \"content\": \"what is the nuclear fusion? explain in less than 15 words\"\n",
    "    }\n",
    "]\n",
    "\n",
    "print(f\"openai_endpoint: {openai_endpoint}\\tDeployment name: {azure_deployment_name}\")\n",
    "print(f\"apim_endpoint: {apim_endpoint}\\tDeployment name: {azure_deployment_name}\")"
   ]
  },
  {
   "cell_type": "markdown",
   "id": "cd6a20a1",
   "metadata": {},
   "source": [
    "# Invoking Open AI via HTTP"
   ]
  },
  {
   "cell_type": "code",
   "execution_count": 2,
   "id": "fd71820d",
   "metadata": {},
   "outputs": [
    {
     "name": "stdout",
     "output_type": "stream",
     "text": [
      "This is the Open AI endpoint and body that is invoked:\n",
      "- https://mmoaiswc-01.openai.azure.com/openai/deployments/gpt-4o-for-apim/chat/completions?api-version=2025-04-28\n",
      "- {'messages': [{'role': 'user', 'content': 'what is the nuclear fusion? explain in less than 20 words'}]}\n"
     ]
    }
   ],
   "source": [
    "import requests\n",
    "\n",
    "messages_json = {\"messages\": messages}\n",
    "\n",
    "url = f\"{openai_endpoint}openai/deployments/{azure_deployment_name}/chat/completions?api-version={openai_api_version}\"\n",
    "print(f'This is the Open AI endpoint and body that is invoked:\\n- {url}\\n- {messages_json}')"
   ]
  },
  {
   "cell_type": "code",
   "execution_count": 3,
   "id": "f5c99c1d",
   "metadata": {},
   "outputs": [
    {
     "name": "stdout",
     "output_type": "stream",
     "text": [
      "Nuclear fusion is the process where atomic nuclei combine, releasing massive energy, as in stars like the Sun.\n",
      "x-ms-region = Sweden Central\n"
     ]
    }
   ],
   "source": [
    "response_http = requests.post(url, headers = {'api-key':openai_api_key}, json = {\"messages\": messages})\n",
    "\n",
    "if (int(response_http.status_code / 100))==2:\n",
    "    print(f\"{response_http.json()['choices'][0]['message']['content']}\\nx-ms-region = {response_http.headers['x-ms-region']}\")\n",
    "else:\n",
    "    print(response_http.text)"
   ]
  },
  {
   "cell_type": "markdown",
   "id": "11960c92",
   "metadata": {},
   "source": [
    "# Invoking Open AI via Azure SDK"
   ]
  },
  {
   "cell_type": "code",
   "execution_count": null,
   "id": "5efb11e4",
   "metadata": {},
   "outputs": [],
   "source": [
    "from openai import AzureOpenAI\n",
    "\n",
    "client = AzureOpenAI(\n",
    "    azure_endpoint = openai_endpoint,\n",
    "    api_key        = openai_api_key,\n",
    "    api_version    = openai_api_version\n",
    ")"
   ]
  },
  {
   "cell_type": "code",
   "execution_count": null,
   "id": "6269dfb6",
   "metadata": {},
   "outputs": [],
   "source": [
    "response_sdk = client.chat.completions.create(\n",
    "    model    = azure_deployment_name,\n",
    "    messages = messages)\n",
    "\n",
    "print(response_sdk.choices[0].message.content)"
   ]
  },
  {
   "cell_type": "markdown",
   "id": "affb3432",
   "metadata": {},
   "source": [
    "# Invoking APIM via HTTP"
   ]
  },
  {
   "cell_type": "code",
   "execution_count": null,
   "id": "0f95619e",
   "metadata": {},
   "outputs": [],
   "source": [
    "import requests\n",
    "\n",
    "messages_json = {\"messages\": messages}\n",
    "\n",
    "url = f\"{apim_endpoint}openai/deployments/{azure_deployment_name}/chat/completions?api-version={openai_api_version}\"\n",
    "print(f'This is the Open AI endpoint and body that is invoked:\\n- {url}\\n- {messages_json}')"
   ]
  },
  {
   "cell_type": "code",
   "execution_count": null,
   "id": "1807ad01",
   "metadata": {},
   "outputs": [],
   "source": [
    "response_http = requests.post(url, headers = {'api-key':apim_subscription_key}, json = {\"messages\": messages})\n",
    "if (int(response_http.status_code / 100))==2:\n",
    "    print(f\"{response_http.json()['choices'][0]['message']['content']}\\nx-ms-region = {response_http.headers['x-ms-region']}\")\n",
    "else:\n",
    "    print(response_http.text)"
   ]
  },
  {
   "cell_type": "markdown",
   "id": "e5c894f2",
   "metadata": {},
   "source": [
    "# Invoking APIM via Azure SDK"
   ]
  },
  {
   "cell_type": "code",
   "execution_count": null,
   "id": "80cbf6ab",
   "metadata": {},
   "outputs": [],
   "source": [
    "from openai import AzureOpenAI\n",
    "\n",
    "client = AzureOpenAI(\n",
    "    azure_endpoint = apim_endpoint,\n",
    "    api_key        = apim_subscription_key,\n",
    "    api_version    = openai_api_version\n",
    ")"
   ]
  },
  {
   "cell_type": "code",
   "execution_count": null,
   "id": "a9d99753",
   "metadata": {},
   "outputs": [],
   "source": [
    "response_sdk = client.chat.completions.create(\n",
    "    model    = azure_deployment_name,\n",
    "    messages = messages)\n",
    "\n",
    "print(response_sdk.choices[0].message.content)"
   ]
  },
  {
   "attachments": {
    "07282903-8504-4128-b0d6-19a20f72c6f2.png": {
     "image/png": "[encoded data removed]"
    }
   },
   "cell_type": "markdown",
   "id": "0260d22e",
   "metadata": {},
   "source": [
    "## Loading test\n",
    "Please configure `APIM Backend Circuit Breaker` as follows before running the following cell:<br/>\n",
    "![image.png](attachment:07282903-8504-4128-b0d6-19a20f72c6f2.png)"
   ]
  },
  {
   "cell_type": "code",
   "execution_count": null,
   "id": "fb8ea351",
   "metadata": {},
   "outputs": [],
   "source": [
    "from datetime import datetime\n",
    "for i in range(1000):\n",
    "    response_sdk = client.chat.completions.create(\n",
    "        model    = azure_deployment_name,\n",
    "        messages = messages)\n",
    "\n",
    "    # Format with one decimal digit for seconds\n",
    "    now = datetime.now()\n",
    "    formatted = now.strftime('%Y-%m-%d %H:%M:%S.') + f'{now.microsecond // 100000}'\n",
    "\n",
    "    print(f\"step {i+1} at {formatted}: {response_sdk.choices[0].message.content}\")"
   ]
  }
 ],
 "metadata": {
  "kernelspec": {
   "display_name": "openai",
   "language": "python",
   "name": "openai"
  },
  "language_info": {
   "codemirror_mode": {
    "name": "ipython",
    "version": 3
   },
   "file_extension": ".py",
   "mimetype": "text/x-python",
   "name": "python",
   "nbconvert_exporter": "python",
   "pygments_lexer": "ipython3",
   "version": "3.13.5"
  }
 },
 "nbformat": 4,
 "nbformat_minor": 5
}

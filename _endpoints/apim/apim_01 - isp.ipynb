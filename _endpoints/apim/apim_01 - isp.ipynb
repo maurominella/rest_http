{
 "cells": [
  {
   "cell_type": "markdown",
   "id": "4f0c1a13",
   "metadata": {},
   "source": [
    "# Variables definition"
   ]
  },
  {
   "cell_type": "code",
   "execution_count": 6,
   "id": "6e961a45-c37e-4102-ba40-33617edeb1b0",
   "metadata": {},
   "outputs": [
    {
     "name": "stdout",
     "output_type": "stream",
     "text": [
      "Environment variables have been loaded ;-)\n"
     ]
    }
   ],
   "source": [
    "import os\n",
    "from dotenv import load_dotenv\n",
    "\n",
    "if not load_dotenv(\"./../../../config/credentials_my.env\", override=True):\n",
    "    print(\"Environment variables not loaded :-(\")\n",
    "else:\n",
    "    print(\"Environment variables have been loaded ;-)\")"
   ]
  },
  {
   "cell_type": "code",
   "execution_count": 1,
   "id": "e6694810",
   "metadata": {},
   "outputs": [
    {
     "ename": "KeyError",
     "evalue": "'openai_endpoint'",
     "output_type": "error",
     "traceback": [
      "\u001b[31m---------------------------------------------------------------------------\u001b[39m",
      "\u001b[31mKeyError\u001b[39m                                  Traceback (most recent call last)",
      "\u001b[36mCell\u001b[39m\u001b[36m \u001b[39m\u001b[32mIn[1]\u001b[39m\u001b[32m, line 6\u001b[39m\n\u001b[32m      3\u001b[39m \u001b[38;5;28;01mfrom\u001b[39;00m\u001b[38;5;250m \u001b[39m\u001b[34;01mdotenv\u001b[39;00m\u001b[38;5;250m \u001b[39m\u001b[38;5;28;01mimport\u001b[39;00m load_dotenv\n\u001b[32m      5\u001b[39m load_dotenv(\u001b[33m\"\u001b[39m\u001b[33m./../config/credentials_my.env\u001b[39m\u001b[33m\"\u001b[39m)\n\u001b[32m----> \u001b[39m\u001b[32m6\u001b[39m openai_endpoint       = \u001b[43mos\u001b[49m\u001b[43m.\u001b[49m\u001b[43menviron\u001b[49m\u001b[43m[\u001b[49m\u001b[33;43m\"\u001b[39;49m\u001b[33;43mopenai_endpoint\u001b[39;49m\u001b[33;43m\"\u001b[39;49m\u001b[43m]\u001b[49m\n\u001b[32m      7\u001b[39m openai_api_key        = os.environ[\u001b[33m\"\u001b[39m\u001b[33mopenai_api_key\u001b[39m\u001b[33m\"\u001b[39m]\n\u001b[32m      8\u001b[39m openai_api_version    = os.environ[\u001b[33m\"\u001b[39m\u001b[33mopenai_api_version\u001b[39m\u001b[33m\"\u001b[39m]\n",
      "\u001b[36mFile \u001b[39m\u001b[32mD:\\ProgramData\\miniconda3\\envs\\openai\\Lib\\os.py:716\u001b[39m, in \u001b[36m_Environ.__getitem__\u001b[39m\u001b[34m(self, key)\u001b[39m\n\u001b[32m    713\u001b[39m     value = \u001b[38;5;28mself\u001b[39m._data[\u001b[38;5;28mself\u001b[39m.encodekey(key)]\n\u001b[32m    714\u001b[39m \u001b[38;5;28;01mexcept\u001b[39;00m \u001b[38;5;167;01mKeyError\u001b[39;00m:\n\u001b[32m    715\u001b[39m     \u001b[38;5;66;03m# raise KeyError with the original key value\u001b[39;00m\n\u001b[32m--> \u001b[39m\u001b[32m716\u001b[39m     \u001b[38;5;28;01mraise\u001b[39;00m \u001b[38;5;167;01mKeyError\u001b[39;00m(key) \u001b[38;5;28;01mfrom\u001b[39;00m\u001b[38;5;250m \u001b[39m\u001b[38;5;28;01mNone\u001b[39;00m\n\u001b[32m    717\u001b[39m \u001b[38;5;28;01mreturn\u001b[39;00m \u001b[38;5;28mself\u001b[39m.decodevalue(value)\n",
      "\u001b[31mKeyError\u001b[39m: 'openai_endpoint'"
     ]
    }
   ],
   "source": [
    "import os\n",
    "from dotenv import load_dotenv\n",
    "\n",
    "if not load_dotenv(\"./../../../config/credentials_my.env\", override=True):\n",
    "    print(\"Environment variables not loaded :-(\")\n",
    "else:\n",
    "    print(\"Environment variables have been loaded ;-)\")\n",
    "    \n",
    "openai_endpoint       = os.environ[\"openai_endpoint\"]\n",
    "openai_api_key        = os.environ[\"openai_api_key\"]\n",
    "openai_api_version    = os.environ[\"openai_api_version\"]\n",
    "azure_deployment_name = os.environ[\"azure_deployment_name\"]\n",
    "\n",
    "apim_endpoint         = os.environ[\"apim_endpoint\"]\n",
    "apim_subscription_key = os.environ[\"apim_subscription_key_premium\"] # apim_subscription_key_service, apim_subscription_key_standard and apim_subscription_key_premium\n",
    "apim_api_version      = os.environ[\"apim_api_version\"] # never used\n",
    "\n",
    "# system and user message files\n",
    "file_path = \".\\\\isp_docs\\\\\"\n",
    "system_message_path = f\"{file_path}system_message.txt\"\n",
    "user_message_path = f\"{file_path}user_message.txt\"\n",
    "answer_verification_path = f\"{file_path}answer_verification.txt\"\n",
    "\n",
    "messages_sample = [\n",
    "    {\n",
    "      \"role\": \"user\",\n",
    "      \"content\": \"what is the nuclear fusion? explain in less than 20 words\"\n",
    "    }\n",
    "]"
   ]
  },
  {
   "cell_type": "markdown",
   "id": "72db98f6-f518-4c97-a18b-a8bdb2931160",
   "metadata": {},
   "source": [
    "# Prepare OpenAI call payload"
   ]
  },
  {
   "cell_type": "code",
   "execution_count": 2,
   "id": "7a336c0a-737b-44ca-8ae4-44cb6795e8d8",
   "metadata": {},
   "outputs": [
    {
     "name": "stdout",
     "output_type": "stream",
     "text": [
      "[{'role': 'system', 'content': 'id_fonte: 815\\n contentuto_fonte:Cosa cambia dal 27 maggio 2023 per le promozioni rivolte agli Under 35?\\nDal 27 maggio al 30 novembre 2023 i giovani usufruiscono di una promozione che azzera il canone mensile base del Xme Conto monointestato e il canone mensile della XME Card Plus se sottoscritta entro il 30 novembre 2023 fino alla fine del mese del compimento del trentacinquesimo anno di etÃ\\xa0.\\n\\nid_fonte: 1203\\n contentuto_fonte:A Chi si Rivolge\\nLa carta puÃ² essere sottoscritta esclusivamente da maggiorenni che possiedono un Codice Fiscale valido e che abbiano sottoscritto il Servizio a distanza e firme elettroniche - My Key. In particolare, Superflash Ã¨ una carta prepagata nominativa ricaricabile destinata ai giovani, studenti o lavoratori, e a tutti coloro che desiderano disporre e ricevere bonifici (non Ã¨ possibile ricevere bonifici di importo inferiore a 1,00 euro), pagare presso gli esercizi commerciali e acquistare su Internet senza ancora possedere un conto corrente. NON puÃ² essere rilasciata a minori o incapaci.\\nIntervista il tuo cliente ed esplora con lui le sue esigenze per individuare il prodotto piÃ¹ adatto a lui.\\n\\n\\nid_fonte: 969\\n contentuto_fonte:Bonus Giovani\\nAllâ€™interno della Dashboard sarÃ\\xa0 visibile il banner denominato Bonus Giovani, che di fatto Ã¨ una somma di denaro che si accumula nel tempo e che al compimento del 18Â° anno il minore puÃ² riscattare. I 4 stati che il banner puÃ² assumere sono:1. Bonus attivato;2. Bonus in progressivo accumulo;3. Valore massimo raggiunto (1000â‚¬);4. Riscatto del bonus.\\n\\nid_fonte: 1530\\n contentuto_fonte:Esempio di trasformazione del conto\\nNel mese di luglio 2016, un cliente ha pagato il canone annuo anticipato di una Classic Card collegata ad un conto non modulare. Ad agosto 2016, trasforma il conto a cui Ã¨ collegata la carta in XME Conto. Questo esempio puÃ² essere utilizzato anche nel caso di cambio conto dâ€™appoggio della carta. La tariffazione di XME Conto prevede che il canone mensile complessivo del conto e dei prodotti collegati venga addebitato per la prima volta a partire dal mese successivo a quello di trasformazione del conto corrente. Quindi, in questo esempio, il primo canone mensile della carta viene addebitato nel mese di settembre 2016.Il meccanismo di refusione centralizzata prevede di restituire al cliente 11/12 del canone annuo addebitato anticipatamente. Questa Ã¨ una scelta migliorativa per il cliente dal momento che gli restituiamo anche il canone del mese di agosto in cui si trovava sul vecchio conto per una parte del mese e su XME Conto per unâ€™altra parte. Il pro-quota restituito al cliente viene riaccreditato direttamente sulla carta ed Ã¨ pertanto visibile direttamente sul rendiconto della carta relativo al mese di settembre 2016. Non câ€™Ã¨ quindi alcun movimento di storno sul conto corrente.**Attenzione**: in fase di trasformazione di un diverso conto corrente in XME Conto verranno sempre abbinate le agevolazioni dedicate ai giovani fino ai 30 anni.\\n\\nid_fonte: 1068\\n contentuto_fonte:Carte Superflash in convenzione\\nPer le carte Superflash in convenzione emesse prima del 30.09.17 che beneficiano di una deroga \"a tempo\" sul canone annuo - come ad esempio convenzione UNDER26 - alla scadenza della deroga stessa viene applicato in automatico il nuovo canone annuo pari a 26,90 euro. Pertanto, al momento del rinnovo della carta: se il cliente ha ancora meno di 26 anni non pagherÃ\\xa0 il canone; al compimento dei 26 anni sarÃ\\xa0 applicato, dal mese successivo a quello di scadenza annuale della carta, il canone di 26,90 euro (derogabile a 9,90 euro solo attraverso un intervento in Price da parte della filiale; importante che non cambi nel tempo il rapporto carta).\\n\\nid_fonte: 584\\n contentuto_fonte:A chi si rivolge\\nLa Carta di Debito Exclusive Ã¨ pensata prevalentemente per i clienti del segmento Exclusive ed Affluent della Banca, con AFI a partire da 75.000 euro o reddito netto da 35.000 euro annui (sono incluse anche le rendite da locazione o redditi diversi) o spending da 35.000 euro annui. Ãˆ una carta di debito riservata ad una clientela selezionata con esigenze di spesa e di servizi di alto livello. In particolare, la carta Ã¨ pensata per:- Clienti interessati al servizio di concierge e quindi ad una valorizzazione del proprio tempo con la possibilitÃ\\xa0 di contattare un assistente personale 24 ore su 24, 7 giorni su 7.- Adatta ai giovani maggiorenni appartenenti a nuclei familiari in target che desiderano accedere a servizi esclusivi mediante uno strumento di pagamento che gli permetta di tenere sotto controllo le spese.- Clienti interessati ad un plafond piÃ¹ elevato (fino a un massimo di 150.000 euro) rispetto alle carte di debito tradizionali.\\n\\nid_fonte: 1130\\n contentuto_fonte:OPERAZIONI INTERROGAZIONI\\n- DATI CARTA/SERVIZIO- DATI POSIZIONE- DATI TITOLARE- ALTRI DATI<table><tr><th colSpan=3>Numero elementi trovati: 3</th><th colSpan=2>Elementi da 1 a 3</th></tr><tr><th colSpan=2>Seleziona</th><th>Numero Dispositivo</th><th>Funzione</th><th>Stato</th></tr><tr><td colSpan=2></td><td></td><td>Nazionale</td><td>ATTIVA</td></tr><tr><td colSpan=2></td><td></td><td>Self service</td><td></td></tr><tr><td colSpan=2></td><td></td><td>CARTA BANCOCARD</td><td>ATTIVA</td></tr></table>\\n\\nid_fonte: 1396\\n contentuto_fonte:Sicurezza\\nIl cliente ha inoltre a disposizione le seguenti funzioni per proteggere la sua carta.â€¢ Gestione notifiche, per ricevere un SMS (se Gestione Notifiche Ã¨ attivo), notifica su app o e-mail ogni volta che si fa unâ€™operazione oltre le soglie scelte. Il costo dellâ€™SMS Ã¨ addebitato direttamente dal gestore telefonico sulla SIM, secondo le proprie tariffe, sullâ€™utenza cellulare indicata nella domanda di attivazione.â€¢ PossibilitÃ\\xa0 di bloccare o sbloccare la carta anche da app, banca online e con la filiale onlineâ€¢ PossibilitÃ\\xa0 di recuperare il PIN anche da app, banca online e con la filiale onlineâ€¢ Elevata sicurezza negli acquisti online con il servizio Pagamenti sicuri internet, che permette â€“ quando la carta Ã¨ collegata al Servizio a distanza della banca - di confermare lâ€™acquisto tramite il PIN personale, lâ€™impronta digitale o il riconoscimento facciale. Inoltre, da app e banca online si possono anche creare carte virtuali. Approfondisci con il Foglio Informativoâ€¢ Servizio GeoControl per scegliere, per la tua sicurezza, se limitare lâ€™utilizzo della carta a seconda del paese in cui ti troviLâ€™operativitÃ\\xa0 in App e banca online Ã¨ riservata ai titolari di My Key, che hanno attivato il servizio a distanza della banca. Per maggiori informazioni consulta il Foglio Informativo e la Guida ai servizi My Key.\\n\\nid_fonte: 49\\n contentuto_fonte:Blocco per Tentativi PIN Errati\\nPer tutte le carte, l\\'immissione per tre volte consecutive del codice PIN errato su un terminale ATM o POS, anch\\'esso compatibile con la tecnologia microchip, provoca in automatico un blocco temporaneo sulla carta. Il blocco viene posto su prelievi e pagamenti POS sul circuito nazionale Pagobancomat, la carta puÃ² essere utilizzata per acquisti online o per acquisti nei negozi fisici sul circuito internazionale. Il mancato sblocco entro 6 mesi provoca l\\'estinzione automatica della carta. In caso di ATM Ã¨ prevista la cattura della carta. La tipologia di blocco Ã¨ assegnata dal sistema a seconda della tipologia di carta utilizzata ed Ã¨ necessaria la verifica dello stato riportato in Webcard per capire il comportamento corretto da attuare.Nello specifico:- Per le carte debito (Bancocard e XME Card Plus) su Webcard nell\\'Inquiry di primo livello troviamo lo stato â€œBlocco tentativi PIN\", al fine dello sblocco Ã¨ necessario un intervento manuale (filiale o FOL con identificazione Strong+OTP).NB: dopo lo sblocco (non Ã¨ previsto un limite di tempo) il cliente deve effettuare un\\'operazione allo sportello ATM del Gruppo (con digitazione PIN) che puÃ² essere un\\'interrogazione, oppure, un prelievo per perfezionare lo sblocco.- Per le carte credito, prepagate e XME Card su Webcard nell\\'Inquiry di primo livello troviamo lo stato \"Attiva\" ma, nella sezione \"Altri dati\" - \"Setefi massimali\":\"Errore da Setefi PAN XXXXX- NUMERO TENTATIVI PIN ESAURITI\", la carta si sblocca in automatico dopo 24 ore con la seguente particolaritÃ\\xa0:â€¢ FDI non puÃ² rimuovere il blocco anticipatamente ma, occorre invitare il cliente ad attendere che il blocco decada in automatico dopo le 24 ore (nel caso in cui la carta dovesse risultare ancora bloccata dopo le 24 ore Ã¨ necessario aprire un Incident); in questo caso non occorre fare un\\'operazione all\\'ATM per riattivare la carta.Inoltre, in caso di carta bloccata per errori PIN, in fase di interrogazione saldo da Webcard (Interrogazioni - Dati posizione e plafond residuo carta) compare il messaggio:\"ERR-22 ERRORE SALDO SETEFI\"(il saldo aggiornato Ã¨ reperibile in ZATB - superflash si trova con il formalismo p-p1-p10 davanti al codice utente); normalmente il batch notturno risolve la situazione.Webcard - Operazioni - Blocco/Sblocco Carta - Sblocco Carta (in caso di Blocco per tentativi PIN, la voce da selezionare Ã¨ \"Sblocco PIN Errati\").\\n\\nid_fonte: 1129\\n contentuto_fonte:Informazioni sulla carta\\nNella schermata principale vengono mostrati i dati della carta. Qui Ã¨ possibile verificare:- Stato: indica se la carta Ã¨ bloccata o attiva;- Data richiesta/Data emissione/Data consegna/Data scadenza: per verifiche su consegna di carte in ritardo o richieste di rinnovo;- Data blocco/Data riemissione: per verifiche su operazioni cautelative;- Dati spedizione: per verifiche sull\\'indirizzo di consegna;- Numero cellulare/Soglia: per verifiche su avvisi SMS.Se la carta si trova nello stato \"Vendita KO Firma FEA/FDR\" Ã¨ uno stato definitivo relativo ad una pratica non andata a buon fine in quanto la carta non Ã¨ stata prodotta. Non verrÃ\\xa0 pertanto nemmeno addebitato il canone.Cliccando su \"Altri dati/Setefi massimali\" Ã¨ possibile interrogare i massimali della carta. La carta Bancocard presenta piÃ¹ stringhe informative, bisogna selezionare quella con l\\'indicazione \"Nazionale\" per accedere alla funzione dedicata.\\n\\nid_fonte: 482\\n contentuto_fonte:1. Profilazione\\nLa procedura si apre sulla sezione \"Parlaci di tuo figlio\", che il genitore deve compilare con l\\'etÃ\\xa0 del figlio e i suoi interessi. Il campo \"Paese\" Ã¨ blindato su ITALIA e non Ã¨ piÃ¹ modificabile. L\\'offerta prevede pacchetti differenziati per etÃ\\xa0:- Pacchetto KID: da 0 a 7 anni compiuti- Pacchetto Young: da 8 a 17 anni compiutiIl pacchetto KID non prevede la possibilitÃ\\xa0 di movimentazione delle somme e pertanto non consente l\\'accesso a IB/App. Al compimento degli 8 anni il genitore puÃ² richiedere l\\'attivazione dei canali ma SOLO in filiale fisica. Il pacchetto Young prevede anche la certificazione del cellulare del minore e l\\'apertura del relativo My Key. Questa fase del processo non prevede passaggi in cui si inviti al contatto vs FDI.\\n\\nid_fonte: 1408\\n contentuto_fonte:Cosa accade ai clienti giÃ\\xa0 titolari di XME Conto beneficiari dello sconto under 30 al 28.02.2019?\\nIl primo marzo 2019 Ã¨ stata innalzata lâ€™etÃ\\xa0 per beneficiare della promozione dedicata ai giovani (da 30 a 35 anni) che prevede la riduzione di 7,5 â‚¬ del canone totale mensile dellâ€™offerta acquistata dal cliente. I clienti che hanno acquistato XME Conto prima di questa data continueranno ad avere abbinata la promozione under 30, come da corredo contrattuale firmato allâ€™apertura del conto.\\n\\nid_fonte: 377\\n contentuto_fonte:Cosa cambia dal 01 marzo 2019 per le promozioni rivolte ai giovani?\\nDal 01 marzo viene innalzato il limite di etÃ\\xa0 da 30 a 35 anni per beneficiare delle promozioni dedicate ai giovani. Fino al compimento del trentacinquesimo anno di etÃ\\xa0 il cliente potrÃ\\xa0 beneficiare delle seguenti promozioni:- 7,50 â‚¬ sul canone totale mensile per i clienti che hanno meno di 35 anni e se il conto Ã¨ monointestato;- azzeramento dell\\'imposta di bollo, pari ad euro 34,20, sul conto corrente;- prelievi su sportelli automatici abilitati di altre banche area SEPA/extra SEPA gratuiti effettuati con carta di debito collegata a XME Conto;- gratuitÃ\\xa0 del costo dei bonifici on line (area SEPA);- azzeramento del costo per l\\'invio e/c cartaceo.Offerta valida per nuove aperture di conti monointestati entro il 31 dicembre 2019.\\n\\nid_fonte: 1362\\n contentuto_fonte:Tipi di Carte\\nClassic Card, Gold Card, XMECard Plus, BancoCard Basic, Carta Superflash, Carta Flash nominativa. Dopo la richiesta della carta, il cliente potrÃ\\xa0 immediatamente attivarla per i servizi di pagamento digitali. In particolare, il cliente visualizza il seguente messaggio: \"Attiva la tua *Nome Carta* per i servizi di pagamento digitali. Attiva gratuitamente la tua carta digitale, mentre aspetti di ricevere la tua carta fisica! Subito e senza costi aggiuntivi potrai: Effettuare acquisti online, Pagare con lo smartphone nei negozi abilitati.\"\\n\\nid_fonte: 384\\n contentuto_fonte:Circuito Internazionale (Visa/Mastercard)\\nSe si digita per 3 volte consecutive un PIN errato sullo stesso sportello ATM bancomat o POS, o su sportelli ATM/POS operanti sullo stesso circuito internazionale, la carta sarÃ\\xa0 bloccata ed eventualmente catturata dallo sportello ATM bancomat.Se il blocco Ã¨ presente solo su circuito nazionale, le operazioni (prelievi, pagamenti anche online, prelievi Cardless) richieste su circuito internazionale sono regolarmente autorizzate.La tipologia di blocco Ã¨ assegnata dal sistema a seconda della tipologia di carta utilizzata ed Ã¨ necessaria la verifica dello stato riportato in Webcard per capire il comportamento corretto da attuare.\\n\\nid_fonte: 1143\\n contentuto_fonte:2. Configurazione\\nDopo aver compilato la sezione \"Parlaci di tuo figlio\", il genitore visualizza il pacchetto assegnato e puÃ² eventualmente integrare l\\'offerta con ulteriori prodotti / servizi. Per il profilo Young, Ã¨ previsto un massimo di 2 carte di debito fra XMe Card e BancoCard Basic/Plus. Nel caso il cliente cerchi di aggiungere un terzo strumento il sistema fornisce un errore parlante. Il solo prodotto di risparmio sottoscrivibile per il conto minori Ã¨ il XMe Salvadanaio. Questa fase del processo non prevede passaggi in cui si inviti al contatto vs FDI.\\n\\nid_fonte: 615\\n contentuto_fonte:Duplicato\\nIl duplicato si utilizza in caso di supporto plastico deteriorato o dati non piÃ¹ leggibili, banda magnetica o chip danneggiato (carta smagnetizzata). La richiesta di duplicato carta genera una nuova carta con: stessa intestazione, stesso numero carta (codice PAN di 16 cifre), stesso codice PIN, stesso codice utente. Non comporta la modifica della data di scadenza originaria se la richiesta viene effettuata entro i primi 6 mesi dall\\'emissione della carta, mentre comporta il posticipo di 3 anni della data di scadenza originaria se la richiesta viene effettuata dopo i primi 6 mesi dall\\'emissione della carta; nuovo CVV.Una volta richiesto il duplicato, il circuito internazionale della vecchia carta smette di funzionare (quindi per carte come credito, prepagate, vecchie Nextcard e Debit il blocco riguarda tutta l\\'operativitÃ\\xa0). L\\'unica componente che resta attiva Ã¨ il circuito nazionale (Bancomat/Pagobancomat/Moneta) delle carte di debito (ad esempio XMECard). Non Ã¨ quindi possibile effettuare acquisti online in nessun caso. Su Webcard lo stato della vecchia carta dopo qualche giorno si trasforma da ATTIVA a RIFATTA; la nuova carta Ã¨ invece in stato IN RIFACIMENTO. Il duplicato di una carta puÃ² essere richiesto in CircolaritÃ\\xa0.\\n\\nid_fonte: 65\\n contentuto_fonte:INTESA SANPAOLO - App & Sito - Focus My Key Business #ISP - Menu SITO MKB #ISP - Carte dell\\'azienda SITO MKB #ISP\\nCarte dell\\'azienda SITO MKB #ISP SI ISP PG - NO ISPB PGNO PG ISPB: per questi clienti Ã¨ disponibile solo il contratto PG NK00.\\nMenÃ¹:\\n- Caratteristiche e funzionalitÃ\\xa0- Funzioni disponibili su carte aziendali (vista blu)- Approfondimenti\\n\\nid_fonte: 1422\\n contentuto_fonte:Circuito Nazionale (Pagobancomat)\\nSe si digita per 5 volte consecutive un PIN errato sullo stesso sportello ATM bancomat o POS, o su sportelli bancomat o POS operanti sullo stesso circuito nazionale, la carta verrÃ\\xa0 bloccata ed eventualmente catturata dallo sportello ATM bancomat.\\n\\nid_fonte: 814\\n contentuto_fonte:Cosa cambia dal 01 luglio 2020 per le promozioni rivolte ai giovani?\\nDal 01 luglio in aggiunta alle promozioni giÃ\\xa0 presenti, fino al compimento del 35Â° anno di etÃ\\xa0, sono attive anche le seguenti promozioni:- azzerato il costo di rinnovo della XME Card Plus;- azzerato il costo per ogni singolo assegno bancario addebitato.Offerta valida per nuove aperture di conti monointestati entro l\\'11 ottobre 2020.\\n\\n\\n\\nRuolo:\\nSei Marco lâ€™assistente virtuale di Intesa Sanpaolo aiuti l\\'assistenza clienti senza rimandare in alcun modo all\\'assistenza clienti, alla banca o alla filiale e senza suggerire altro tipo di supporto tecnico\\n\\nSe la richiesta riguarda prodotti non chiaramente presenti o citati nelle fonti fornite o prodotti nazionali o internazionali specifici confondibili con prodotti della banca Intesa Sanpaolo,rispondi con il seguente testo, senza aggiungere altro: Come Co-pilota dei Gestori di Filiale Digitale mi occupo di altri argomenti, per approfondirli consulta la Guida ai contenuti. Se vuoi chiedimi qualcos\\'altro e proverÃ² a risponderti.\\nIstruzioni richiesta non pertinente:\\nSe la richiesta Ã¨ posta in modo corretto e non trovi risposta alla richiesta nelle fonti fornite, o se la richiesta fa riferimento ad altre banche o aziende rispondi esattamente cosÃ¬ senza aggiungere altro: Come Co-pilota dei Gestori di Filiale Digitale mi occupo di altri argomenti, per approfondirli consulta la Guida ai contenuti. Se vuoi chiedimi qualcos\\'altro e proverÃ² a risponderti.\\nSe la richiesta Ã¨ solo un insieme di lettere casuali rispondi esattamente cosÃ¬ senza aggiungere nulla: Non riesco a comprendere la tua richiesta. Potresti per favore riformulare o specificare meglio la tua domanda?\\n\\nIstruzioni richiesta pertinente:\\nOgni fonte ha un id_fonte ed un contenuto_fonte.\\nRispondi sempre con fatti presenti nei campi contenuto_fonte e riporta alla fine l\\'id_fonte della fonte utilizzata tra quadre.\\nCita l\\'id_fonte corrispondente ad ogni informazione contenuta nella risposta.\\nGli id_fonte da utilizzare sono esclusivamente quelli riportati dopo la dicitura \\'id_fonte\\'. Non inventare gli id_fonte.Non citarne piÃ¹ del necessario.\\nUsa parentesi quadre per riportare gli id_fonte, cosÃ¬: [42].\\nNon restituire il formato markdown.\\nSe nella risposta Ã¨ presente una tabella restituisci le informazioni in formato tabulare come tabella HTML.\\n\\nIstruzioni testo da racchiudere tra <b> e </b>:\\nL\\'unico modo in cui devi evidenziare in grassetto Ã¨ usando i tag <b> e </b>.\\nNon corretto: **Questo Ã¨ grassetto** Corretto: <b>Questo Ã¨ grassetto</b>\\nGli unici casi in cui devi evidenziare in grassetto sono i seguenti:\\nRacchiudi sempre tra tag <b> e </b> tutte le date (formato europeo, ISO 8601, Formato lungo italiano) gli orari, i costi ed importi monetari.\\nSe utilizzi un elenco puntato o numerato per rispondere dai un titolo di sezione ad ogni punto dell\\'elenco e racchiudi in <b> e </b> il titolo di sezione di ogni punto.\\nEsempio: se il testo include passaggi elencati, come 1. primo passaggio: eseguire istruzione, il risultato deve essere formattato come: 1.<b>primo passaggio</b>: eseguire istruzione.\\n\\nIstruzioni su informazioni tra parentesi graffe:\\nQuando per rispondere utilizzi frasi o parti di frasi che trovi racchiuse tra parentesi graffe riportale sempre tra parentesi graffe.\\nEcco un paio di esempi di come va riportata la tua risposta finale in questi casi:\\n        1.\\n{No, non devi comunicare il codice utente al cliente se non ha ancora ricevuto la carta.} Ãˆ importante ricordare che la Banca non contatterÃ\\xa0 mai il cliente per attivare una carta che non Ã¨ ancora stata ricevuta. [72]\\n        2.\\nPer identificare le attivazioni digitali di carte considerate fraudolente, viene introdotto un controllo antifrode relativo al numero di attivazioni digitali eseguite da uno stesso Codice Fiscale (CF) per una determinata tipologia di carta in un determinato arco temporale.{Non Ã¨ possibile attivare digitalmente piÃ¹ di una carta della stessa tipologia nell\\'arco temporale di 7 giorni. Questa informazione non Ã¨ da comunicare al cliente}.[85][89]\\n\\nFai un respiro profondo.\\n(A) controlla che ogni id_fonte citato sia tra parentesi quadre: [27], [9],... \\n(B) controlla che ogni id_fonte citato corrisponda esattamente ad uno dei 20 id_fonte elencati nelle tue fonti a disposizione.\\n(C) controlla di aver abbinato ad ogni informazione riportata l\\'id_fonte da cui l\\'hai estrapolata.\\nIMPORTANTE! Riporta sempre tra parentesi graffe le frasi che trovi racchiuse tra parentesi graffe.\\nIMPORTANTE! La risposta deve essere breve ma esaustiva non deve superare i 500 token.'}, {'role': 'user', 'content': \"IMPORTANTE! Non generare messaggi che violano le Azure OpenAI's content management policy.\\\\nRichiesta:come funziona la carta giovani nazionale?\"}]\n"
     ]
    }
   ],
   "source": [
    "def read_file_content(file_path: str) -> str:\n",
    "    # Open and read the file\n",
    "    try:\n",
    "        with open(file_path, 'r') as file:\n",
    "            # Read the contents of the file\n",
    "            content = file.read()\n",
    "            # Print the content\n",
    "            return content\n",
    "    except FileNotFoundError:\n",
    "        print(f\"The file at {file_path} was not found.\")\n",
    "    except IOError:\n",
    "        print(f\"An error occurred while reading the file at {file_path}.\")\n",
    "\n",
    "\n",
    "system_message = read_file_content(system_message_path)\n",
    "user_message   = read_file_content(user_message_path)\n",
    "\n",
    "messages = [\n",
    "    {\n",
    "      \"role\": \"system\",\n",
    "      \"content\": system_message\n",
    "    },\n",
    "    {\n",
    "      \"role\": \"user\",\n",
    "      \"content\": user_message\n",
    "    }\n",
    "]\n",
    "\n",
    "print(messages)"
   ]
  },
  {
   "cell_type": "markdown",
   "id": "f17e330d-ca9d-4be4-b33a-80dbb07eb3f7",
   "metadata": {},
   "source": [
    "# Answer Check"
   ]
  },
  {
   "cell_type": "code",
   "execution_count": 4,
   "id": "e93a0a21-ef1d-48a9-9ee3-cf79639c6dc0",
   "metadata": {},
   "outputs": [
    {
     "data": {
      "text/plain": [
       "'WRONG'"
      ]
     },
     "execution_count": 4,
     "metadata": {},
     "output_type": "execute_result"
    }
   ],
   "source": [
    "def check_answer(answer: str) -> str:\n",
    "    messages_verification = [\n",
    "        {\n",
    "            \"role\": \"user\",\n",
    "            \"content\": read_file_content(answer_verification_path).replace(\"<string_to_check>\", answer)\n",
    "        }\n",
    "    ]\n",
    "\n",
    "    url = f\"{openai_endpoint}openai/deployments/{azure_deployment_name}/chat/completions?api-version={openai_api_version}\"\n",
    "    response_http = requests.post(url, headers = {'api-key':openai_api_key}, json = {\"messages\": messages_verification})\n",
    "\n",
    "    if (int(response_http.status_code / 100))==2:\n",
    "        answer = response_http.json()['choices'][0]['message']['content']\n",
    "        return(answer)\n",
    "    else:\n",
    "        print(response_http.text)\n",
    "\n",
    "check_answer(\"è una carta prepagata nominativa\") # \"non lo so\", \"è una carta prepagata nominativa\""
   ]
  },
  {
   "cell_type": "markdown",
   "id": "11960c92",
   "metadata": {},
   "source": [
    "# Invoking Open AI via HTTP or Azure SDK"
   ]
  },
  {
   "cell_type": "code",
   "execution_count": 5,
   "id": "5efb11e4",
   "metadata": {},
   "outputs": [],
   "source": [
    "def invoke_openai(method:str=\"http\", iterations:int=10, temperature:float=0, top_p:float=0.95, max_tokens=500):\n",
    "\n",
    "    filename = datetime.datetime.now().strftime(\"%Y_%m_%d_%H_%M_logs.txt\") # Format the date and time as required\n",
    "    correct_count = 0\n",
    "    logs = \"\"\n",
    "           \n",
    "    if method == \"http\":\n",
    "        messages_json = {\"messages\": messages, \"temperature\": temperature, \"top_p\": top_p, \"max_tokens\": max_tokens}\n",
    "        url = f\"{openai_endpoint}openai/deployments/{azure_deployment_name}/chat/completions?api-version={openai_api_version}\"\n",
    "    elif method == \"sdk\":\n",
    "        client = AzureOpenAI(\n",
    "            azure_endpoint = openai_endpoint,\n",
    "            api_key        = openai_api_key,\n",
    "            api_version    = openai_api_version\n",
    "        )\n",
    "        messages_json = messages\n",
    "        parameters = {  \n",
    "            \"temperature\": temperature,  # Adjust the temperature value as needed  \n",
    "            \"top_p\": top_p,  # Adjust the top_p value as needed\n",
    "            \"max_tokens\": max_tokens\n",
    "        }\n",
    "\n",
    "    for i in range(iterations):\n",
    "        if method == \"http\":\n",
    "            response_http = requests.post(url, headers = {'api-key':openai_api_key}, json = {\"messages\": messages})\n",
    "            if (int(response_http.status_code / 100))==2:\n",
    "                answer = response_http.json()['choices'][0]['message']['content']\n",
    "            else:\n",
    "                print(response_http.text)\n",
    "                return\n",
    "                \n",
    "        elif method == \"sdk\":\n",
    "            response_sdk = client.chat.completions.create(\n",
    "                model    = azure_deployment_name,\n",
    "                messages = messages_json,\n",
    "                **parameters\n",
    "            )\n",
    "            answer = response_sdk.choices[0].message.content\n",
    "\n",
    "        answer_result = check_answer(answer)\n",
    "        correct_count += 1 if answer_result == \"CORRECT\" else 0\n",
    "\n",
    "        output = f\">>>> {i+1} ({method}) - {answer_result}: {answer}\\n\"\n",
    "        print(output)\n",
    "        logs = f\"{logs}{output}\\n\"\n",
    "    \n",
    "    statistics = f\"Summary: {correct_count} correct results out of {iterations} ({correct_count/iterations*100}%)\"\n",
    "    \n",
    "    # Write the string to the file\n",
    "    with open(f\"{file_path}{filename}\", \"w\") as file:\n",
    "        file.write(f\"{statistics}\\n=======\\n{logs}\")\n",
    "    \n",
    "    print(statistics)"
   ]
  },
  {
   "cell_type": "code",
   "execution_count": 6,
   "id": "ba1bca98-a53e-414e-bc4d-21f80d7bf686",
   "metadata": {},
   "outputs": [
    {
     "name": "stdout",
     "output_type": "stream",
     "text": [
      ">>>> 1 (sdk) - CORRECT: Come Co-pilota dei Gestori di Filiale Digitale mi occupo di altri argomenti, per approfondirli consulta la Guida ai contenuti. Se vuoi chiedimi qualcos'altro e proverò a risponderti.\n",
      "\n",
      ">>>> 2 (sdk) - CORRECT: Come Co-pilota dei Gestori di Filiale Digitale mi occupo di altri argomenti, per approfondirli consulta la Guida ai contenuti. Se vuoi chiedimi qualcos'altro e proverò a risponderti.\n",
      "\n",
      ">>>> 3 (sdk) - CORRECT: Come Co-pilota dei Gestori di Filiale Digitale mi occupo di altri argomenti, per approfondirli consulta la Guida ai contenuti. Se vuoi chiedimi qualcos'altro e proverò a risponderti.\n",
      "\n",
      ">>>> 4 (sdk) - CORRECT: Come Co-pilota dei Gestori di Filiale Digitale mi occupo di altri argomenti, per approfondirli consulta la Guida ai contenuti. Se vuoi chiedimi qualcos'altro e proverò a risponderti.\n",
      "\n",
      ">>>> 5 (sdk) - WRONG: La carta giovani nazionale non è specificamente menzionata nelle fonti fornite. Tuttavia, posso fornirti informazioni su alcune carte destinate ai giovani offerte da Intesa Sanpaolo:\n",
      "\n",
      "1. **Carta Superflash**:\n",
      "   - È una carta prepagata nominativa ricaricabile destinata ai giovani, studenti o lavoratori.\n",
      "   - Permette di disporre e ricevere bonifici (non è possibile ricevere bonifici di importo inferiore a 1,00 euro), pagare presso gli esercizi commerciali e acquistare su Internet senza possedere un conto corrente.\n",
      "   - Non può essere rilasciata a minori o incapaci. [1203]\n",
      "\n",
      "2. **XME Card Plus**:\n",
      "   - Dal **27 maggio al 30 novembre 2023**, i giovani under 35 possono usufruire di una promozione che azzera il canone mensile della XME Card Plus se sottoscritta entro il **30 novembre 2023** fino alla fine del mese del compimento del trentacinquesimo anno di età. [815]\n",
      "\n",
      "Se hai bisogno di ulteriori dettagli su una carta specifica, fammi sapere!\n",
      "\n",
      ">>>> 6 (sdk) - CORRECT: Come Co-pilota dei Gestori di Filiale Digitale mi occupo di altri argomenti, per approfondirli consulta la Guida ai contenuti. Se vuoi chiedimi qualcos'altro e proverò a risponderti.\n",
      "\n",
      ">>>> 7 (sdk) - CORRECT: Come Co-pilota dei Gestori di Filiale Digitale mi occupo di altri argomenti, per approfondirli consulta la Guida ai contenuti. Se vuoi chiedimi qualcos'altro e proverò a risponderti.\n",
      "\n",
      ">>>> 8 (sdk) - WRONG: La carta giovani nazionale non è specificamente menzionata nelle fonti fornite. Tuttavia, posso fornirti informazioni su alcune carte destinate ai giovani offerte da Intesa Sanpaolo:\n",
      "\n",
      "1. **Carta Superflash**:\n",
      "   - È una carta prepagata nominativa ricaricabile destinata ai giovani, studenti o lavoratori.\n",
      "   - Permette di disporre e ricevere bonifici (non è possibile ricevere bonifici di importo inferiore a 1,00 euro), pagare presso gli esercizi commerciali e acquistare su Internet senza possedere un conto corrente.\n",
      "   - Non può essere rilasciata a minori o incapaci. [1203]\n",
      "\n",
      "2. **XME Card Plus**:\n",
      "   - Dal **27 maggio 2023** al **30 novembre 2023**, i giovani under 35 possono usufruire di una promozione che azzera il canone mensile della XME Card Plus se sottoscritta entro il **30 novembre 2023** fino alla fine del mese del compimento del trentacinquesimo anno di età. [815]\n",
      "\n",
      "Se hai bisogno di ulteriori dettagli su una carta specifica, fammi sapere!\n",
      "\n",
      ">>>> 9 (sdk) - WRONG: La carta Superflash è una carta prepagata nominativa ricaricabile destinata ai giovani, studenti o lavoratori, e a tutti coloro che desiderano disporre e ricevere bonifici, pagare presso gli esercizi commerciali e acquistare su Internet senza ancora possedere un conto corrente. Non può essere rilasciata a minori o incapaci. La carta può essere sottoscritta esclusivamente da maggiorenni che possiedono un Codice Fiscale valido e che abbiano sottoscritto il Servizio a distanza e firme elettroniche - My Key [1203].\n",
      "\n",
      ">>>> 10 (sdk) - WRONG: La carta Superflash è una carta prepagata nominativa ricaricabile destinata ai giovani, studenti o lavoratori, e a tutti coloro che desiderano disporre e ricevere bonifici, pagare presso gli esercizi commerciali e acquistare su Internet senza ancora possedere un conto corrente. Non può essere rilasciata a minori o incapaci. [1203]\n",
      "\n",
      "Per le carte Superflash in convenzione emesse prima del 30.09.17 che beneficiano di una deroga \"a tempo\" sul canone annuo, alla scadenza della deroga stessa viene applicato in automatico il nuovo canone annuo pari a <b>26,90 euro</b>. Se il cliente ha ancora meno di 26 anni non pagherà il canone; al compimento dei 26 anni sarà applicato, dal mese successivo a quello di scadenza annuale della carta, il canone di <b>26,90 euro</b> (derogabile a <b>9,90 euro</b> solo attraverso un intervento in Price da parte della filiale) [1068].\n",
      "\n",
      "Summary: 6 correct results out of 10 (60.0%)\n",
      "CPU times: total: 125 ms\n",
      "Wall time: 34.8 s\n"
     ]
    }
   ],
   "source": [
    "%%time\n",
    "\n",
    "invoke_openai (method=\"sdk\", iterations=10)"
   ]
  },
  {
   "cell_type": "code",
   "execution_count": 7,
   "id": "7b824877-c870-479d-917a-6ac5bcb224c9",
   "metadata": {},
   "outputs": [
    {
     "name": "stdout",
     "output_type": "stream",
     "text": [
      ">>>> 1 (http) - WRONG: La Carta Superflash è una carta prepagata nominativa ricaricabile destinata ai giovani, studenti o lavoratori. Consente di disporre e ricevere bonifici (non è possibile ricevere bonifici di importo inferiore a 1,00 euro), pagare presso gli esercizi commerciali e acquistare su Internet senza possedere un conto corrente. Non può essere rilasciata a minori o incapaci. [1203]\n",
      "\n",
      "**Funzioni disponibili**\n",
      "- Gestione notifiche per ricevere un SMS, notifica su app o e-mail per ogni operazione oltre le soglie scelte. \n",
      "- Possibilità di bloccare o sbloccare la carta tramite app, banca online e con la filiale online.\n",
      "- Possibilità di recuperare il PIN tramite app, banca online e con la filiale online.\n",
      "- Elevata sicurezza negli acquisti online con il servizio Pagamenti sicuri internet.\n",
      "- Servizio GeoControl per limitare l'utilizzo della carta a seconda del paese in cui ti trovi. \n",
      "[1396]\n",
      "\n",
      ">>>> 2 (http) - WRONG: La carta Superflash è una carta prepagata nominativa ricaricabile destinata ai giovani, studenti o lavoratori, e a tutti coloro che desiderano disporre e ricevere bonifici (ad eccezione dei bonifici di importo inferiore a 1,00 euro), pagare presso gli esercizi commerciali e acquistare su Internet senza avere un conto corrente. Tuttavia, non può essere rilasciata a minori o incapaci. La carta può essere sottoscritta esclusivamente da maggiorenni che possiedono un Codice Fiscale valido e che abbiano sottoscritto il Servizio a distanza e firme elettroniche - My Key. [1203]\n",
      "\n",
      "Per le carte Superflash in convenzione emesse prima del 30 settembre 2017 con una deroga sul canone annuo (ad esempio convenzione UNDER26), al momento del rinnovo, se il cliente ha meno di 26 anni non pagherà il canone. Al compimento dei 26 anni, sarà applicato un canone di 26,90 euro, con possibilità di deroga a 9,90 euro attraverso la filiale. [1068] \n",
      "\n",
      "Inoltre, è importante considerare che operazione di blocco possono verificarsi in caso di errata immissione del PIN su terminali ATM o POS. [49]\n",
      "\n",
      ">>>> 3 (http) - WRONG: La carta Superflash è una carta prepagata nominativa ricaricabile destinata ai giovani, studenti o lavoratori. Può essere sottoscritta esclusivamente da maggiorenni che possiedono un Codice Fiscale valido e che abbiano sottoscritto il Servizio a distanza e firme elettroniche - My Key. Tra i suoi utilizzi principali ci sono la possibilità di disporre e ricevere bonifici (non quelli di importo inferiore a 1,00 euro), pagare presso gli esercizi commerciali e acquistare su Internet, senza ancora possedere un conto corrente. Non può essere rilasciata a minori o incapaci [1203].\n",
      "\n",
      ">>>> 4 (http) - CORRECT: Come Co-pilota dei Gestori di Filiale Digitale mi occupo di altri argomenti, per approfondirli consulta la Guida ai contenuti. Se vuoi chiedimi qualcos'altro e proverò a risponderti.\n",
      "\n",
      ">>>> 5 (http) - WRONG: La carta giovani nazionale, denominata **Superflash**, è una carta prepagata nominativa ricaricabile, rivolta ai giovani, studenti o lavoratori, che consente di disporre e ricevere bonifici (non è possibile ricevere bonifici di importo inferiore a 1,00 euro), pagare presso gli esercizi commerciali e acquistare su Internet senza la necessità di possedere un conto corrente. Tuttavia, non può essere rilasciata a minori o a persone incapaci. [1203]\n",
      "\n",
      ">>>> 6 (http) - WRONG: La carta giovani è una carta prepagata nominativa ricaricabile destinata ai giovani, sia studenti che lavoratori, che desiderano disporre e ricevere bonifici (non è possibile ricevere bonifici di importo inferiore a 1,00 euro), pagare presso gli esercizi commerciali e acquistare su Internet senza possedere un conto corrente. La carta può essere sottoscritta esclusivamente dai maggiorenni che possiedono un Codice Fiscale valido e che abbiano sottoscritto il Servizio a distanza e firme elettroniche - My Key. Non può essere rilasciata a minori o incapaci. [1203]\n",
      "\n",
      ">>>> 7 (http) - CORRECT: Come Co-pilota dei Gestori di Filiale Digitale mi occupo di altri argomenti, per approfondirli consulta la Guida ai contenuti. Se vuoi chiedimi qualcos'altro e proverò a risponderti.\n",
      "\n",
      ">>>> 8 (http) - WRONG: La carta giovani nazionale permette di ricevere e disporre bonifici (non è possibile ricevere bonifici di importo inferiore a 1,00 euro), pagare presso gli esercizi commerciali e acquistare su Internet senza possedere un conto corrente. È una carta prepagata nominativa e ricaricabile destinata ai giovani, studenti o lavoratori. Non può essere rilasciata a minori o incapaci [1203].\n",
      "\n",
      ">>>> 9 (http) - CORRECT: La carta giovani nazionale non è menzionata nelle fonti a mia disposizione. {Come Co-pilota dei Gestori di Filiale Digitale mi occupo di altri argomenti, per approfondirli consulta la Guida ai contenuti.} Se vuoi chiedimi qualcos'altro e proverò a risponderti.\n",
      "\n",
      ">>>> 10 (http) - CORRECT: Come Co-pilota dei Gestori di Filiale Digitale mi occupo di altri argomenti, per approfondirli consulta la Guida ai contenuti. Se vuoi chiedimi qualcos'altro e proverò a risponderti.\n",
      "\n",
      "Summary: 4 correct results out of 10 (40.0%)\n",
      "CPU times: total: 109 ms\n",
      "Wall time: 40.4 s\n"
     ]
    }
   ],
   "source": [
    "%%time\n",
    "\n",
    "invoke_openai (method=\"http\", iterations=10)"
   ]
  }
 ],
 "metadata": {
  "kernelspec": {
   "display_name": "openai",
   "language": "python",
   "name": "python3"
  },
  "language_info": {
   "codemirror_mode": {
    "name": "ipython",
    "version": 3
   },
   "file_extension": ".py",
   "mimetype": "text/x-python",
   "name": "python",
   "nbconvert_exporter": "python",
   "pygments_lexer": "ipython3",
   "version": "3.13.5"
  }
 },
 "nbformat": 4,
 "nbformat_minor": 5
}

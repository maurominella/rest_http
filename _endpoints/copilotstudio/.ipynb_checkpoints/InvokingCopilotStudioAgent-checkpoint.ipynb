{
 "cells": [
  {
   "cell_type": "markdown",
   "id": "21e11a46-2699-418a-adce-560c4ec26543",
   "metadata": {},
   "source": [
    "# Constants and Libraries"
   ]
  },
  {
   "cell_type": "code",
   "execution_count": 1,
   "id": "f9b4acba-53e3-473a-8707-1a81b3ae98db",
   "metadata": {},
   "outputs": [
    {
     "name": "stdout",
     "output_type": "stream",
     "text": [
      "Environment variables have been loaded ;-)\n"
     ]
    }
   ],
   "source": [
    "import os, requests, time\n",
    "from IPython.display import Markdown, display\n",
    "from dotenv import load_dotenv # requires python-dotenv\n",
    "\n",
    "if not load_dotenv(\"./../../../config/credentials_my.env\"):\n",
    "    print(\"Environment variables not loaded, cell execution stopped\")\n",
    "else:\n",
    "    print(\"Environment variables have been loaded ;-)\")\n",
    "\n",
    "direct_line_secret = os.environ[\"direct_line_secret\"]\n",
    "sender_id          = \"mauromi\"\n",
    "sender_name        = \"Mauro Minella\"\n",
    "question           = \"my printer is broken\""
   ]
  },
  {
   "cell_type": "markdown",
   "id": "1e01bb5c-f49e-4a81-980e-3ed787dd352c",
   "metadata": {},
   "source": [
    "# Start a new conversation"
   ]
  },
  {
   "cell_type": "code",
   "execution_count": 2,
   "id": "e18c336a-e412-4adf-8a9b-60aeab4d5673",
   "metadata": {},
   "outputs": [
    {
     "data": {
      "text/plain": [
       "'4dGFCmrgcF57ljn7UIAtOj-fr'"
      ]
     },
     "execution_count": 2,
     "metadata": {},
     "output_type": "execute_result"
    }
   ],
   "source": [
    "def new_conversation(direct_line_secret: str):\n",
    "    # Start a new conversation\n",
    "    \n",
    "    headers = {\n",
    "        'Authorization': f'Bearer {direct_line_secret}',\n",
    "        'Content-Type': 'application/json'\n",
    "    }\n",
    "    start_conv = requests.post(\n",
    "        'https://directline.botframework.com/v3/directline/conversations',\n",
    "        headers=headers\n",
    "    )\n",
    "    \n",
    "    conversation_id = start_conv.json()['conversationId']\n",
    "    return conversation_id\n",
    "\n",
    "\n",
    "conversation_id = new_conversation(direct_line_secret = direct_line_secret)\n",
    "\n",
    "conversation_id"
   ]
  },
  {
   "cell_type": "markdown",
   "id": "aacb8fb4-a9d0-4517-b954-6f1e1fe2154d",
   "metadata": {},
   "source": [
    "# Send a message to the bot"
   ]
  },
  {
   "cell_type": "code",
   "execution_count": 3,
   "id": "c554e433-eb16-4573-933b-ace2c768f4e2",
   "metadata": {},
   "outputs": [
    {
     "data": {
      "text/plain": [
       "{'id': '4dGFCmrgcF57ljn7UIAtOj-fr|0000000'}"
      ]
     },
     "execution_count": 3,
     "metadata": {},
     "output_type": "execute_result"
    }
   ],
   "source": [
    "def send_message_to_bot(conversation_id: str, question: str, sender_id: str=\"user\", sender_name: str=\"\"):\n",
    "\n",
    "    if sender_name==\"\":\n",
    "        sender_name = sender_id\n",
    "\n",
    "    message = {\n",
    "        'type': 'message',\n",
    "        'from': {'id': sender_id, 'name': sender_name},\n",
    "        'text': question\n",
    "    }\n",
    "\n",
    "    headers = {\n",
    "        'Authorization': f'Bearer {direct_line_secret}',\n",
    "        'Content-Type': 'application/json'\n",
    "    }\n",
    "    \n",
    "    response = requests.post(\n",
    "        f'https://directline.botframework.com/v3/directline/conversations/{conversation_id}/activities',\n",
    "        headers=headers,\n",
    "        json=message,\n",
    "    )\n",
    "    return response.json();\n",
    "\n",
    "\n",
    "send_message_to_bot(conversation_id=conversation_id, question=question, sender_id=sender_id)"
   ]
  },
  {
   "cell_type": "markdown",
   "id": "69ca67e4-574a-4e08-b396-0e326b985534",
   "metadata": {},
   "source": [
    "# Poll the activities endpoint"
   ]
  },
  {
   "cell_type": "code",
   "execution_count": 4,
   "id": "01f93b8a-db08-4e5f-a240-58a10e433c4e",
   "metadata": {},
   "outputs": [
    {
     "name": "stdout",
     "output_type": "stream",
     "text": [
      "Waiting for answer to be completed...\n",
      "Waiting for answer to be completed...\n",
      "Waiting for answer to be completed...\n",
      "Status: DynamicPlanStepBindUpdate. Waiting for answer to be completed...\n",
      "Status: DynamicPlanStepBindUpdate. Waiting for answer to be completed...\n",
      "Status: DynamicPlanStepBindUpdate. Waiting for answer to be completed...\n",
      "Status: DynamicPlanStepBindUpdate. Waiting for answer to be completed...\n",
      "Status: DynamicPlanStepFinished. Waiting for answer to be completed...\n",
      "Status: DynamicPlanStepFinished. Waiting for answer to be completed...\n",
      "Status: DynamicPlanStepFinished. Waiting for answer to be completed...\n",
      "Status: DynamicPlanFinished. FINISHED!\n",
      "\n",
      "\n"
     ]
    },
    {
     "data": {
      "text/markdown": [
       "Message 1 - mauromi says: my printer is broken\n"
      ],
      "text/plain": [
       "<IPython.core.display.Markdown object>"
      ]
     },
     "metadata": {},
     "output_type": "display_data"
    },
    {
     "data": {
      "text/markdown": [
       "Message 2 - Assistente Onboarding says: Here are some general troubleshooting steps for a broken printer:\n",
       "\n",
       "1. **Check the Basics**:\n",
       "   - Ensure the printer is plugged in and turned on.\n",
       "   - Verify that all cables are securely connected.\n",
       "   - Make sure there is paper in the tray and that it is loaded correctly.\n",
       "\n",
       "2. **Check for Error Messages**:\n",
       "   - Look at the printer's display panel for any error messages or blinking lights. Refer to the printer's manual to understand what these messages mean.\n",
       "\n",
       "3. **Restart the Printer**:\n",
       "   - Turn off the printer, wait for a few seconds, and then turn it back on. Sometimes a simple restart can resolve the issue.\n",
       "\n",
       "4. **Check the Ink or Toner Levels**:\n",
       "   - Ensure that the printer has enough ink or toner. Replace any empty cartridges if necessary.\n",
       "\n",
       "5. **Clear Paper Jams**:\n",
       "   - Open the printer and check for any paper jams. Carefully remove any stuck paper, following the instructions in the printer's manual.\n",
       "\n",
       "6. **Update or Reinstall Drivers**:\n",
       "   - Ensure that the printer drivers are up to date. You can download the latest drivers from the printer manufacturer's website.\n",
       "   - If necessary, uninstall the current drivers and reinstall them.\n",
       "\n",
       "7. **Check Printer Settings**:\n",
       "   - Make sure the printer is set as the default printer on your computer.\n",
       "   - Verify that the printer is not set to offline mode.\n",
       "\n",
       "8. **Run Printer Troubleshooter**:\n",
       "   - Many operating systems have built-in printer troubleshooting tools. Run the troubleshooter to identify and fix common issues.\n",
       "\n",
       "9. **Check Network Connections** (for wireless printers):\n",
       "   - Ensure that the printer is connected to the correct Wi-Fi network.\n",
       "   - Restart your router if necessary.\n",
       "\n",
       "10. **Consult the Manual or Manufacturer Support**:\n",
       "   - If the problem persists, refer to the printer's manual for more specific troubleshooting steps.\n",
       "   - Contact the printer manufacturer's customer support for further assistance.\n",
       "\n",
       "If you need more detailed instructions or have a specific issue, feel free to ask!\n"
      ],
      "text/plain": [
       "<IPython.core.display.Markdown object>"
      ]
     },
     "metadata": {},
     "output_type": "display_data"
    }
   ],
   "source": [
    "def print_conversation(conversation_id: str, last_question: str):\n",
    "    activities_url = f\"https://directline.botframework.com/v3/directline/conversations/{conversation_id}/activities\"\n",
    "    headers = {\n",
    "        'Authorization': f'Bearer {direct_line_secret}',\n",
    "        'Content-Type': 'application/json'\n",
    "    }\n",
    "    \n",
    "    while True:\n",
    "        response = requests.get(activities_url, headers=headers)\n",
    "        activities = response.json()['activities']\n",
    "        if ((activities[-1][\"type\"] == \"message\" and activities[-1][\"text\"] != last_question)\n",
    "            or (activities[-1][\"type\"] == \"event\" and activities[-1][\"valueType\"] == \"DynamicPlanFinished\")):\n",
    "            if (activities[-1][\"type\"] == \"event\"):\n",
    "                print(f\"Status: {activities[-1]['valueType']}. FINISHED!\\n\\n\")\n",
    "            else:\n",
    "                print(\"FINISHED!\\n\\n\")\n",
    "            break\n",
    "        else:\n",
    "            time.sleep(1)\n",
    "            if (activities[-1][\"type\"] == \"event\"):\n",
    "                print(f\"Status: {activities[-1]['valueType']}. Waiting for answer to be completed...\")\n",
    "            else:\n",
    "                print(\"Waiting for answer to be completed...\")\n",
    "\n",
    "    i = 0\n",
    "\n",
    "    for activity in activities:\n",
    "        if activity[\"type\"] == \"message\":\n",
    "            i += 1\n",
    "            display(Markdown(f'Message {i} - {activity[\"from\"][\"name\"]} says: {activity[\"text\"]}\\n'))\n",
    "\n",
    "    activities = [activity for activity in activities if activity.get('type') == 'message']\n",
    "\n",
    "    return activities\n",
    "\n",
    "activities = print_conversation(conversation_id=conversation_id, last_question=question)"
   ]
  },
  {
   "cell_type": "code",
   "execution_count": 5,
   "id": "4026b2c1-bf86-41b3-8b4a-3bc081c101fb",
   "metadata": {},
   "outputs": [
    {
     "data": {
      "text/plain": [
       "[{'type': 'message',\n",
       "  'id': '4dGFCmrgcF57ljn7UIAtOj-fr|0000000',\n",
       "  'timestamp': '2025-06-26T23:43:01.5084308Z',\n",
       "  'serviceUrl': 'https://directline.botframework.com/',\n",
       "  'channelId': 'directline',\n",
       "  'from': {'id': 'mauromi', 'name': 'mauromi'},\n",
       "  'conversation': {'id': '4dGFCmrgcF57ljn7UIAtOj-fr'},\n",
       "  'text': 'my printer is broken'},\n",
       " {'type': 'message',\n",
       "  'id': '4dGFCmrgcF57ljn7UIAtOj-fr|0000007',\n",
       "  'timestamp': '2025-06-26T23:43:13.5715591Z',\n",
       "  'channelId': 'directline',\n",
       "  'from': {'id': '1487de36-6cf4-98db-896b-dd501b2d01a0',\n",
       "   'name': 'Assistente Onboarding',\n",
       "   'role': 'bot'},\n",
       "  'conversation': {'id': '4dGFCmrgcF57ljn7UIAtOj-fr'},\n",
       "  'textFormat': 'markdown',\n",
       "  'membersAdded': [],\n",
       "  'membersRemoved': [],\n",
       "  'reactionsAdded': [],\n",
       "  'reactionsRemoved': [],\n",
       "  'text': \"Here are some general troubleshooting steps for a broken printer:\\n\\n1. **Check the Basics**:\\n   - Ensure the printer is plugged in and turned on.\\n   - Verify that all cables are securely connected.\\n   - Make sure there is paper in the tray and that it is loaded correctly.\\n\\n2. **Check for Error Messages**:\\n   - Look at the printer's display panel for any error messages or blinking lights. Refer to the printer's manual to understand what these messages mean.\\n\\n3. **Restart the Printer**:\\n   - Turn off the printer, wait for a few seconds, and then turn it back on. Sometimes a simple restart can resolve the issue.\\n\\n4. **Check the Ink or Toner Levels**:\\n   - Ensure that the printer has enough ink or toner. Replace any empty cartridges if necessary.\\n\\n5. **Clear Paper Jams**:\\n   - Open the printer and check for any paper jams. Carefully remove any stuck paper, following the instructions in the printer's manual.\\n\\n6. **Update or Reinstall Drivers**:\\n   - Ensure that the printer drivers are up to date. You can download the latest drivers from the printer manufacturer's website.\\n   - If necessary, uninstall the current drivers and reinstall them.\\n\\n7. **Check Printer Settings**:\\n   - Make sure the printer is set as the default printer on your computer.\\n   - Verify that the printer is not set to offline mode.\\n\\n8. **Run Printer Troubleshooter**:\\n   - Many operating systems have built-in printer troubleshooting tools. Run the troubleshooter to identify and fix common issues.\\n\\n9. **Check Network Connections** (for wireless printers):\\n   - Ensure that the printer is connected to the correct Wi-Fi network.\\n   - Restart your router if necessary.\\n\\n10. **Consult the Manual or Manufacturer Support**:\\n   - If the problem persists, refer to the printer's manual for more specific troubleshooting steps.\\n   - Contact the printer manufacturer's customer support for further assistance.\\n\\nIf you need more detailed instructions or have a specific issue, feel free to ask!\",\n",
       "  'inputHint': 'acceptingInput',\n",
       "  'attachments': [],\n",
       "  'entities': [],\n",
       "  'replyToId': '4dGFCmrgcF57ljn7UIAtOj-fr|0000000',\n",
       "  'listenFor': [],\n",
       "  'textHighlights': []}]"
      ]
     },
     "execution_count": 5,
     "metadata": {},
     "output_type": "execute_result"
    }
   ],
   "source": [
    "activities"
   ]
  },
  {
   "cell_type": "markdown",
   "id": "d938f7b8-c1f7-4021-be24-4965f3e322ae",
   "metadata": {},
   "source": [
    "# All in one"
   ]
  },
  {
   "cell_type": "code",
   "execution_count": 6,
   "id": "05e6d476-f4ba-473a-a75d-4b3b29330aa9",
   "metadata": {},
   "outputs": [
    {
     "name": "stdout",
     "output_type": "stream",
     "text": [
      "Waiting for answer to be completed...\n",
      "Waiting for answer to be completed...\n",
      "Status: DynamicPlanReceived. Waiting for answer to be completed...\n",
      "Status: DynamicPlanStepBindUpdate. Waiting for answer to be completed...\n",
      "Status: DynamicPlanStepBindUpdate. Waiting for answer to be completed...\n",
      "Status: DynamicPlanStepBindUpdate. Waiting for answer to be completed...\n",
      "Status: DynamicPlanStepBindUpdate. Waiting for answer to be completed...\n",
      "Status: DynamicPlanStepFinished. Waiting for answer to be completed...\n",
      "Status: DynamicPlanStepFinished. Waiting for answer to be completed...\n",
      "Status: DynamicPlanStepFinished. Waiting for answer to be completed...\n",
      "Status: DynamicPlanStepFinished. Waiting for answer to be completed...\n",
      "Status: DynamicPlanFinished. FINISHED!\n",
      "\n",
      "\n"
     ]
    },
    {
     "data": {
      "text/markdown": [
       "Message 1 - mauromi says: I need a plan for my next vacation in Australia\n"
      ],
      "text/plain": [
       "<IPython.core.display.Markdown object>"
      ]
     },
     "metadata": {},
     "output_type": "display_data"
    },
    {
     "data": {
      "text/markdown": [
       "Message 2 - Assistente Onboarding says: Planning a vacation in Australia can be an exciting adventure! Here are some steps to help you get started:\n",
       "\n",
       "### 1. **Decide on the Duration**\n",
       "Determine how long you plan to stay in Australia. This will help you plan your itinerary and budget.\n",
       "\n",
       "### 2. **Choose Your Destinations**\n",
       "Australia is vast and diverse. Here are some popular destinations:\n",
       "- **Sydney**: Famous for the Sydney Opera House, Harbour Bridge, and beautiful beaches.\n",
       "- **Melbourne**: Known for its vibrant arts scene, coffee culture, and laneways.\n",
       "- **Great Barrier Reef**: A must-see for snorkeling and diving enthusiasts.\n",
       "- **Uluru (Ayers Rock)**: Experience the iconic red rock and learn about Aboriginal culture.\n",
       "- **Gold Coast**: Perfect for surfing, theme parks, and nightlife.\n",
       "\n",
       "### 3. **Book Flights and Accommodation**\n",
       "- **Flights**: Look for deals on flights to Australia. Major cities like Sydney and Melbourne have international airports.\n",
       "- **Accommodation**: Choose from hotels, hostels, Airbnb, or vacation rentals depending on your budget and preferences.\n",
       "\n",
       "### 4. **Plan Activities**\n",
       "- **Outdoor Adventures**: Hiking, surfing, diving, and exploring national parks.\n",
       "- **Cultural Experiences**: Visit museums, galleries, and historical sites.\n",
       "- **Wildlife Encounters**: See kangaroos, koalas, and other unique Australian animals.\n",
       "\n",
       "### 5. **Transportation**\n",
       "- **Car Rental**: Renting a car can give you the freedom to explore at your own pace.\n",
       "- **Public Transport**: Cities like Sydney and Melbourne have efficient public transport systems.\n",
       "\n",
       "### 6. **Prepare Travel Documents**\n",
       "- **Visa**: Check visa requirements for your country and apply in advance.\n",
       "- **Travel Insurance**: Consider getting travel insurance for peace of mind.\n",
       "\n",
       "### 7. **Pack Accordingly**\n",
       "- **Clothing**: Pack for the season and activities you plan to do. Australia’s climate varies greatly.\n",
       "- **Essentials**: Sunscreen, hat, comfortable shoes, and a camera.\n",
       "\n",
       "### 8. **Health and Safety**\n",
       "- **Vaccinations**: Check if any vaccinations are required.\n",
       "- **Emergency Contacts**: Have a list of emergency contacts and local health facilities.\n",
       "\n",
       "### 9. **Budgeting**\n",
       "- **Expenses**: Plan your budget for accommodation, food, activities, and transportation.\n",
       "- **Currency**: The local currency is the Australian Dollar (AUD).\n",
       "\n",
       "### 10. **Local Etiquette**\n",
       "- **Respect Nature**: Follow guidelines in national parks and beaches.\n",
       "- **Cultural Sensitivity**: Be respectful of Aboriginal culture and traditions.\n",
       "\n",
       "Enjoy your trip to Australia! If you need more specific information or help with booking, feel free to ask.\n"
      ],
      "text/plain": [
       "<IPython.core.display.Markdown object>"
      ]
     },
     "metadata": {},
     "output_type": "display_data"
    }
   ],
   "source": [
    "question=\"I need a plan for my next vacation in Australia\"\n",
    "conversation_id = new_conversation(direct_line_secret = direct_line_secret)\n",
    "send_message_to_bot(conversation_id=conversation_id, question=question, sender_id=sender_id)\n",
    "activities = print_conversation(conversation_id=conversation_id, last_question=question)"
   ]
  }
 ],
 "metadata": {
  "kernelspec": {
   "display_name": "copilotstudioagents_env",
   "language": "python",
   "name": "copilotstudioagents_env"
  },
  "language_info": {
   "codemirror_mode": {
    "name": "ipython",
    "version": 3
   },
   "file_extension": ".py",
   "mimetype": "text/x-python",
   "name": "python",
   "nbconvert_exporter": "python",
   "pygments_lexer": "ipython3",
   "version": "3.10.18"
  }
 },
 "nbformat": 4,
 "nbformat_minor": 5
}

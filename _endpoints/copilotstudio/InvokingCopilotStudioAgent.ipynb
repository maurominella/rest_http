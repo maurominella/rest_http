{
 "cells": [
  {
   "cell_type": "markdown",
   "id": "21e11a46-2699-418a-adce-560c4ec26543",
   "metadata": {},
   "source": [
    "# Constants and Libraries"
   ]
  },
  {
   "cell_type": "code",
   "execution_count": 5,
   "id": "f9b4acba-53e3-473a-8707-1a81b3ae98db",
   "metadata": {},
   "outputs": [
    {
     "name": "stdout",
     "output_type": "stream",
     "text": [
      "Environment variables have been loaded ;-)\n"
     ]
    }
   ],
   "source": [
    "import os, requests, time\n",
    "from IPython.display import Markdown, display\n",
    "from dotenv import load_dotenv # requires python-dotenv\n",
    "\n",
    "if not load_dotenv(\"./../../../config/credentials_my.env\"):\n",
    "    print(\"Environment variables not loaded, cell execution stopped\")\n",
    "else:\n",
    "    print(\"Environment variables have been loaded ;-)\")\n",
    "\n",
    "direct_line_secret = os.environ[\"direct_line_secret\"]\n",
    "sender_id          = \"mauromi\"\n",
    "sender_name        = \"Mauro Minella\"\n",
    "question           = \"Calculate the space routes from Uran to Jupiter\" # \"my printer is broken\""
   ]
  },
  {
   "cell_type": "markdown",
   "id": "1e01bb5c-f49e-4a81-980e-3ed787dd352c",
   "metadata": {},
   "source": [
    "# Start a new conversation"
   ]
  },
  {
   "cell_type": "code",
   "execution_count": 6,
   "id": "e18c336a-e412-4adf-8a9b-60aeab4d5673",
   "metadata": {},
   "outputs": [
    {
     "data": {
      "text/plain": [
       "'FzuOBlXb1Tj1C9dXSU2jUZ-fr'"
      ]
     },
     "execution_count": 6,
     "metadata": {},
     "output_type": "execute_result"
    }
   ],
   "source": [
    "def new_conversation(direct_line_secret: str):\n",
    "    # Start a new conversation\n",
    "    \n",
    "    headers = {\n",
    "        'Authorization': f'Bearer {direct_line_secret}',\n",
    "        'Content-Type': 'application/json'\n",
    "    }\n",
    "    start_conv = requests.post(\n",
    "        'https://directline.botframework.com/v3/directline/conversations',\n",
    "        headers=headers\n",
    "    )\n",
    "    \n",
    "    conversation_id = start_conv.json()['conversationId']\n",
    "    return conversation_id\n",
    "\n",
    "\n",
    "conversation_id = new_conversation(direct_line_secret = direct_line_secret)\n",
    "\n",
    "conversation_id"
   ]
  },
  {
   "cell_type": "markdown",
   "id": "aacb8fb4-a9d0-4517-b954-6f1e1fe2154d",
   "metadata": {},
   "source": [
    "# Send a message to the bot"
   ]
  },
  {
   "cell_type": "code",
   "execution_count": 7,
   "id": "c554e433-eb16-4573-933b-ace2c768f4e2",
   "metadata": {},
   "outputs": [
    {
     "data": {
      "text/plain": [
       "{'id': 'FzuOBlXb1Tj1C9dXSU2jUZ-fr|0000000'}"
      ]
     },
     "execution_count": 7,
     "metadata": {},
     "output_type": "execute_result"
    }
   ],
   "source": [
    "def send_message_to_bot(conversation_id: str, question: str, sender_id: str=\"user\", sender_name: str=\"\"):\n",
    "\n",
    "    if sender_name==\"\":\n",
    "        sender_name = sender_id\n",
    "\n",
    "    message = {\n",
    "        'type': 'message',\n",
    "        'from': {'id': sender_id, 'name': sender_name},\n",
    "        'text': question\n",
    "    }\n",
    "\n",
    "    headers = {\n",
    "        'Authorization': f'Bearer {direct_line_secret}',\n",
    "        'Content-Type': 'application/json'\n",
    "    }\n",
    "    \n",
    "    response = requests.post(\n",
    "        f'https://directline.botframework.com/v3/directline/conversations/{conversation_id}/activities',\n",
    "        headers=headers,\n",
    "        json=message,\n",
    "    )\n",
    "    return response.json();\n",
    "\n",
    "\n",
    "send_message_to_bot(conversation_id=conversation_id, question=question, sender_id=sender_id)"
   ]
  },
  {
   "cell_type": "markdown",
   "id": "69ca67e4-574a-4e08-b396-0e326b985534",
   "metadata": {},
   "source": [
    "# Poll the activities endpoint"
   ]
  },
  {
   "cell_type": "code",
   "execution_count": 8,
   "id": "01f93b8a-db08-4e5f-a240-58a10e433c4e",
   "metadata": {},
   "outputs": [
    {
     "name": "stdout",
     "output_type": "stream",
     "text": [
      "Waiting for answer to be completed...\n",
      "Waiting for answer to be completed...\n",
      "Waiting for answer to be completed...\n",
      "Status: DynamicPlanStepBindUpdate. Waiting for answer to be completed...\n",
      "Status: DynamicPlanStepBindUpdate. Waiting for answer to be completed...\n",
      "Status: DynamicPlanStepFinished. Waiting for answer to be completed...\n",
      "Status: DynamicPlanFinished. FINISHED!\n",
      "\n",
      "\n"
     ]
    },
    {
     "data": {
      "text/markdown": [
       "Message 1 - mauromi says: Calculate the space routes from Uran to Jupiter\n"
      ],
      "text/plain": [
       "<IPython.core.display.Markdown object>"
      ]
     },
     "metadata": {},
     "output_type": "display_data"
    },
    {
     "data": {
      "text/markdown": [
       "Message 2 - space routes calculator says: The space route from Uranus to Jupiter involves traveling through Saturn. The sequence of planets in the solar system is as follows:\n",
       "\n",
       "1. Mercury\n",
       "2. Venus\n",
       "3. Earth\n",
       "4. Mars\n",
       "5. Jupiter\n",
       "6. Saturn\n",
       "7. Uranus\n",
       "8. Neptune\n",
       "\n",
       "Therefore, the complete route from Uranus to Jupiter is:\n",
       "Uranus -> Saturn -> Jupiter\n",
       "\n",
       "Interstellar travel between Uranus and Jupiter requires passing through Saturn. The distance between these planets is significant, and the travel time depends on the speed of the spacecraft used. Space missions must consider the gravity of the planets and their orbits to optimize the route and reduce fuel consumption.\n"
      ],
      "text/plain": [
       "<IPython.core.display.Markdown object>"
      ]
     },
     "metadata": {},
     "output_type": "display_data"
    }
   ],
   "source": [
    "def print_conversation(conversation_id: str, last_question: str):\n",
    "    activities_url = f\"https://directline.botframework.com/v3/directline/conversations/{conversation_id}/activities\"\n",
    "    headers = {\n",
    "        'Authorization': f'Bearer {direct_line_secret}',\n",
    "        'Content-Type': 'application/json'\n",
    "    }\n",
    "    \n",
    "    while True:\n",
    "        response = requests.get(activities_url, headers=headers)\n",
    "        activities = response.json()['activities']\n",
    "        if ((activities[-1][\"type\"] == \"message\" and activities[-1][\"text\"] != last_question)\n",
    "            or (activities[-1][\"type\"] == \"event\" and activities[-1][\"valueType\"] == \"DynamicPlanFinished\")):\n",
    "            if (activities[-1][\"type\"] == \"event\"):\n",
    "                print(f\"Status: {activities[-1]['valueType']}. FINISHED!\\n\\n\")\n",
    "            else:\n",
    "                print(\"FINISHED!\\n\\n\")\n",
    "            break\n",
    "        else:\n",
    "            time.sleep(1)\n",
    "            if (activities[-1][\"type\"] == \"event\"):\n",
    "                print(f\"Status: {activities[-1]['valueType']}. Waiting for answer to be completed...\")\n",
    "            else:\n",
    "                print(\"Waiting for answer to be completed...\")\n",
    "\n",
    "    i = 0\n",
    "\n",
    "    for activity in activities:\n",
    "        if activity[\"type\"] == \"message\":\n",
    "            i += 1\n",
    "            display(Markdown(f'Message {i} - {activity[\"from\"][\"name\"]} says: {activity[\"text\"]}\\n'))\n",
    "\n",
    "    activities = [activity for activity in activities if activity.get('type') == 'message']\n",
    "\n",
    "    return activities\n",
    "\n",
    "activities = print_conversation(conversation_id=conversation_id, last_question=question)"
   ]
  },
  {
   "cell_type": "code",
   "execution_count": 9,
   "id": "4026b2c1-bf86-41b3-8b4a-3bc081c101fb",
   "metadata": {},
   "outputs": [
    {
     "data": {
      "text/plain": [
       "[{'type': 'message',\n",
       "  'id': 'FzuOBlXb1Tj1C9dXSU2jUZ-fr|0000000',\n",
       "  'timestamp': '2025-06-27T07:59:08.8882121Z',\n",
       "  'serviceUrl': 'https://directline.botframework.com/',\n",
       "  'channelId': 'directline',\n",
       "  'from': {'id': 'mauromi', 'name': 'mauromi'},\n",
       "  'conversation': {'id': 'FzuOBlXb1Tj1C9dXSU2jUZ-fr'},\n",
       "  'text': 'Calculate the space routes from Uran to Jupiter'},\n",
       " {'type': 'message',\n",
       "  'id': 'FzuOBlXb1Tj1C9dXSU2jUZ-fr|0000007',\n",
       "  'timestamp': '2025-06-27T07:59:15.9620448Z',\n",
       "  'channelId': 'directline',\n",
       "  'from': {'id': 'c20bc3d1-1443-a2ee-e236-d53c01154200',\n",
       "   'name': 'space routes calculator',\n",
       "   'role': 'bot'},\n",
       "  'conversation': {'id': 'FzuOBlXb1Tj1C9dXSU2jUZ-fr'},\n",
       "  'textFormat': 'markdown',\n",
       "  'membersAdded': [],\n",
       "  'membersRemoved': [],\n",
       "  'reactionsAdded': [],\n",
       "  'reactionsRemoved': [],\n",
       "  'text': 'The space route from Uranus to Jupiter involves traveling through Saturn. The sequence of planets in the solar system is as follows:\\n\\n1. Mercury\\n2. Venus\\n3. Earth\\n4. Mars\\n5. Jupiter\\n6. Saturn\\n7. Uranus\\n8. Neptune\\n\\nTherefore, the complete route from Uranus to Jupiter is:\\nUranus -> Saturn -> Jupiter\\n\\nInterstellar travel between Uranus and Jupiter requires passing through Saturn. The distance between these planets is significant, and the travel time depends on the speed of the spacecraft used. Space missions must consider the gravity of the planets and their orbits to optimize the route and reduce fuel consumption.',\n",
       "  'inputHint': 'acceptingInput',\n",
       "  'attachments': [],\n",
       "  'entities': [],\n",
       "  'replyToId': 'FzuOBlXb1Tj1C9dXSU2jUZ-fr|0000000',\n",
       "  'listenFor': [],\n",
       "  'textHighlights': []}]"
      ]
     },
     "execution_count": 9,
     "metadata": {},
     "output_type": "execute_result"
    }
   ],
   "source": [
    "activities"
   ]
  },
  {
   "cell_type": "markdown",
   "id": "d938f7b8-c1f7-4021-be24-4965f3e322ae",
   "metadata": {},
   "source": [
    "# All in one"
   ]
  },
  {
   "cell_type": "code",
   "execution_count": 10,
   "id": "d65da223-f186-4eca-b91f-4f03a9d777e2",
   "metadata": {},
   "outputs": [],
   "source": [
    "def InvokeSpaceRoutesCalculator(question: str, conversation_id: str = \"\"):\n",
    "    if conversation_id == \"\":\n",
    "        conversation_id = new_conversation(direct_line_secret = direct_line_secret)\n",
    "    send_message_to_bot(conversation_id=conversation_id, question=question, sender_id=sender_id)\n",
    "    activities = print_conversation(conversation_id=conversation_id, last_question=question)\n",
    "    return activities"
   ]
  },
  {
   "cell_type": "code",
   "execution_count": 11,
   "id": "05e6d476-f4ba-473a-a75d-4b3b29330aa9",
   "metadata": {},
   "outputs": [
    {
     "name": "stdout",
     "output_type": "stream",
     "text": [
      "Waiting for answer to be completed...\n",
      "Waiting for answer to be completed...\n",
      "Waiting for answer to be completed...\n",
      "Status: DynamicPlanStepBindUpdate. Waiting for answer to be completed...\n",
      "Status: DynamicPlanStepFinished. Waiting for answer to be completed...\n",
      "Status: DynamicPlanStepFinished. Waiting for answer to be completed...\n",
      "Status: DynamicPlanFinished. FINISHED!\n",
      "\n",
      "\n"
     ]
    },
    {
     "data": {
      "text/markdown": [
       "Message 1 - mauromi says: come posso andare su Marte, a partire dalla Terra?\n"
      ],
      "text/plain": [
       "<IPython.core.display.Markdown object>"
      ]
     },
     "metadata": {},
     "output_type": "display_data"
    },
    {
     "data": {
      "text/markdown": [
       "Message 2 - space routes calculator says: Per calcolare la rotta spaziale dal pianeta Terra al pianeta Marte nel sistema solare, possiamo seguire la sequenza dei pianeti. Ecco il percorso completo:\n",
       "\n",
       "1. Terra\n",
       "2. Marte\n",
       "\n",
       "Informazioni dettagliate sui percorsi interstellari:\n",
       "- La distanza media tra la Terra e Marte è di circa 225 milioni di chilometri.\n",
       "- Il viaggio spaziale tra la Terra e Marte può richiedere dai 6 ai 9 mesi, a seconda della velocità della navicella spaziale e della posizione relativa dei pianeti.\n",
       "- Le missioni spaziali devono considerare le finestre di lancio ottimali, che si verificano ogni 26 mesi, quando i pianeti sono allineati favorevolmente.\n",
       "\n",
       "Se hai bisogno di ulteriori dettagli o informazioni specifiche, fammi sapere!\n"
      ],
      "text/plain": [
       "<IPython.core.display.Markdown object>"
      ]
     },
     "metadata": {},
     "output_type": "display_data"
    },
    {
     "data": {
      "text/plain": [
       "[{'type': 'message',\n",
       "  'id': '6zzpZfbz0xBI7xY3eD3L2n-fr|0000000',\n",
       "  'timestamp': '2025-06-27T07:59:48.585239Z',\n",
       "  'serviceUrl': 'https://directline.botframework.com/',\n",
       "  'channelId': 'directline',\n",
       "  'from': {'id': 'mauromi', 'name': 'mauromi'},\n",
       "  'conversation': {'id': '6zzpZfbz0xBI7xY3eD3L2n-fr'},\n",
       "  'text': 'come posso andare su Marte, a partire dalla Terra?'},\n",
       " {'type': 'message',\n",
       "  'id': '6zzpZfbz0xBI7xY3eD3L2n-fr|0000007',\n",
       "  'timestamp': '2025-06-27T07:59:55.1443349Z',\n",
       "  'channelId': 'directline',\n",
       "  'from': {'id': 'c20bc3d1-1443-a2ee-e236-d53c01154200',\n",
       "   'name': 'space routes calculator',\n",
       "   'role': 'bot'},\n",
       "  'conversation': {'id': '6zzpZfbz0xBI7xY3eD3L2n-fr'},\n",
       "  'textFormat': 'markdown',\n",
       "  'membersAdded': [],\n",
       "  'membersRemoved': [],\n",
       "  'reactionsAdded': [],\n",
       "  'reactionsRemoved': [],\n",
       "  'text': 'Per calcolare la rotta spaziale dal pianeta Terra al pianeta Marte nel sistema solare, possiamo seguire la sequenza dei pianeti. Ecco il percorso completo:\\n\\n1. Terra\\n2. Marte\\n\\nInformazioni dettagliate sui percorsi interstellari:\\n- La distanza media tra la Terra e Marte è di circa 225 milioni di chilometri.\\n- Il viaggio spaziale tra la Terra e Marte può richiedere dai 6 ai 9 mesi, a seconda della velocità della navicella spaziale e della posizione relativa dei pianeti.\\n- Le missioni spaziali devono considerare le finestre di lancio ottimali, che si verificano ogni 26 mesi, quando i pianeti sono allineati favorevolmente.\\n\\nSe hai bisogno di ulteriori dettagli o informazioni specifiche, fammi sapere!',\n",
       "  'inputHint': 'acceptingInput',\n",
       "  'attachments': [],\n",
       "  'entities': [],\n",
       "  'replyToId': '6zzpZfbz0xBI7xY3eD3L2n-fr|0000000',\n",
       "  'listenFor': [],\n",
       "  'textHighlights': []}]"
      ]
     },
     "execution_count": 11,
     "metadata": {},
     "output_type": "execute_result"
    }
   ],
   "source": [
    "question= \"come posso andare su Marte, a partire dalla Terra?\" # \"I need a plan for my next vacation in Australia\"\n",
    "\n",
    "InvokeSpaceRoutesCalculator(question)"
   ]
  },
  {
   "cell_type": "code",
   "execution_count": null,
   "id": "bd699eac-33f2-4473-957f-6d1b40f7ec3e",
   "metadata": {},
   "outputs": [],
   "source": []
  }
 ],
 "metadata": {
  "kernelspec": {
   "display_name": "copilotstudioagents_env",
   "language": "python",
   "name": "copilotstudioagents_env"
  },
  "language_info": {
   "codemirror_mode": {
    "name": "ipython",
    "version": 3
   },
   "file_extension": ".py",
   "mimetype": "text/x-python",
   "name": "python",
   "nbconvert_exporter": "python",
   "pygments_lexer": "ipython3",
   "version": "3.10.18"
  }
 },
 "nbformat": 4,
 "nbformat_minor": 5
}
